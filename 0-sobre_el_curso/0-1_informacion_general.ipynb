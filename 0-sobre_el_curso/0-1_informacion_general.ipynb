{
 "cells": [
  {
   "cell_type": "markdown",
   "metadata": {},
   "source": [
    "# Inicia tu aprendizaje de Python para ciencia de datos\n",
    "\n",
    "Inicia tu aprendizaje de Python para ciencia de datos, así como la programación en general, con esta introducción amigable para principiantes a Python. Python es uno de los lenguajes de programación más populares del mundo, y nunca ha habido mayor demanda de profesionales con la capacidad de aplicar los fundamentos de Python para impulsar soluciones comerciales en diversas industrias.\n",
    "\n",
    "---\n",
    "\n",
    "Este curso te llevará de cero a programar en Python en cuestión de horas, ¡no se necesita experiencia previa en programación! Aprenderás los fundamentos de Python, incluyendo estructuras de datos y análisis de datos, realizarás ejercicios prácticos a lo largo de los módulos del curso y crearás un proyecto final para demostrar tus nuevas habilidades.\n",
    "\n",
    "---\n",
    "\n",
    "Al finalizar este curso, te sentirás cómodo creando programas básicos, trabajando con datos y resolviendo problemas del mundo real en Python. Adquirirás una base sólida para un aprendizaje más avanzado en el campo y desarrollarás habilidades que te ayudarán a avanzar en tu carrera.\n",
    "\n",
    "---\n",
    "\n",
    "## Nota para los estudiantes que auditan el curso\n",
    "\n",
    "Ten en cuenta que el entorno basado en la nube que usaste en el laboratorio anterior está disponible solo para los estudiantes de pago. Sin embargo, puedes descargar los cuadernos de laboratorio y ejecutarlos en tu propio entorno de Jupyter Lab. Si deseas utilizar el entorno de laboratorio basado en la nube, puedes actualizar tu suscripción al curso para pagar. ¡Esto te permitirá obtener un certificado del curso!\n",
    "\n",
    "---\n",
    "\n",
    "Este curso puede aplicarse a varios programas de especialización o certificación profesional. Completar este curso contará para tu aprendizaje en cualquiera de los siguientes programas:\n",
    "\n",
    "- **Certificación Profesional de Python en Ciencia de Datos**\n",
    "- **Certificación Profesional en Ciencia de Datos de IBM**\n",
    "- **Certificación Profesional en Análisis de Datos de IBM**\n",
    "- **Certificación Profesional en Desarrollo Full Stack**\n",
    "- **Certificación en Fundamentos de Ingeniería de Datos**\n",
    "\n",
    "---\n",
    "\n",
    "Al completar cualquiera de los programas mencionados, además de obtener un certificado de finalización de especialización, también recibirás una insignia digital de IBM que reconoce tu experiencia en el campo.\n"
   ]
  },
  {
   "cell_type": "markdown",
   "metadata": {},
   "source": []
  }
 ],
 "metadata": {
  "language_info": {
   "name": "python"
  }
 },
 "nbformat": 4,
 "nbformat_minor": 2
}
