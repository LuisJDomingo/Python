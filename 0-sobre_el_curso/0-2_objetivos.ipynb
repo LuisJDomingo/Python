{
 "cells": [
  {
   "cell_type": "markdown",
   "metadata": {},
   "source": [
    "# Objetivo del Curso\n",
    "\n",
    "El objetivo de este curso es introducirte a Python como lenguaje de programación y darte una idea de cómo empezar a trabajar con datos en Python.\n",
    "\n",
    "---\n",
    "\n",
    "## En este curso aprenderás sobre:\n",
    "\n",
    "- **¿Qué es Python y por qué es útil?**\n",
    "- **Aplicaciones de Python**\n",
    "- **Cómo definir variables**\n",
    "- **Conjuntos y declaraciones condicionales en Python**\n",
    "- **El propósito de tener funciones en Python**\n",
    "- **Cómo operar con archivos para leer y escribir datos en Python**\n",
    "- **Cómo usar pandas, un paquete indispensable para cualquiera que intente realizar análisis de datos en Python**\n"
   ]
  }
 ],
 "metadata": {
  "language_info": {
   "name": "python"
  }
 },
 "nbformat": 4,
 "nbformat_minor": 2
}
