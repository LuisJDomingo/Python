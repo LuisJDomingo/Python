{
 "cells": [
  {
   "cell_type": "markdown",
   "metadata": {},
   "source": [
    "# Plan de Estudios (Syllabus)\n",
    "\n",
    "## Módulo 1: Fundamentos de Python\n",
    "\n",
    "- **Sobre el curso**\n",
    "- **Tipos de datos**\n",
    "- **Expresiones y variables**\n",
    "- **Operaciones con cadenas de texto**\n",
    "\n",
    "---\n",
    "\n",
    "## Módulo 2: Estructuras de Datos en Python\n",
    "\n",
    "- **Listas y tuplas**\n",
    "- **Diccionarios**\n",
    "- **Conjuntos (Sets)**\n",
    "\n",
    "---\n",
    "\n",
    "## Módulo 3: Fundamentos de Programación en Python\n",
    "\n",
    "- **Condiciones y ramificación**\n",
    "- **Bucles**\n",
    "- **Funciones**\n",
    "- **Manejo de excepciones**\n",
    "- **Objetos y clases**\n",
    "- **Práctica con los fundamentos de programación en Python**\n",
    "\n",
    "---\n",
    "\n",
    "## Módulo 4: Trabajando con Datos en Python\n",
    "\n",
    "- **Lectura y escritura de archivos con `open`**\n",
    "- **Pandas**\n",
    "- **Numpy en Python**\n",
    "\n",
    "---\n",
    "\n",
    "## Módulo 5: APIs y Recolección de Datos\n",
    "\n",
    "- **APIs simples**\n",
    "- **REST APIs, web scraping y trabajo con archivos**\n",
    "- **Examen final**\n"
   ]
  }
 ],
 "metadata": {
  "language_info": {
   "name": "python"
  }
 },
 "nbformat": 4,
 "nbformat_minor": 2
}
