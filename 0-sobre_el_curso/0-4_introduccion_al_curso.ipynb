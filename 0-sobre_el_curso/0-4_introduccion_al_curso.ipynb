{
 "cells": [
  {
   "cell_type": "markdown",
   "metadata": {},
   "source": [
    "# [GENERADO AUTOMÁTICAMENTE]\n",
    "## Hola. Soy José, y seré tu instructor para este curso.\n",
    "\n",
    "Hiciste la elección correcta. Si solo hubiera un lenguaje de programación que tuviera que aprender sobre ciencia de datos e inteligencia artificial, sin duda sería Python.\n",
    "\n",
    "La mejor parte es que Python es súper fácil de aprender y, a menudo, es uno de los primeros lenguajes a los que la gente recurre cuando intenta aprender a programar.\n",
    "\n",
    "Python es muy poderoso. Tiene un enorme ecosistema de bibliotecas que te ayudarán a lograr las cosas más complejas con solo unas pocas líneas de código. Python es excelente en todo, desde análisis de datos, web scraping, hasta trabajar con big data, finanzas, visión por computadora, procesamiento de lenguaje natural, aprendizaje automático, aprendizaje profundo y mucho más. Python puede hacer cualquier cosa que le propongas.\n",
    "\n",
    "Este curso está diseñado para principiantes, pero si ya sabes programar, también puedes tomar este curso y aprender Python rápidamente.\n",
    "\n",
    "- En el **Módulo 1**, aprenderás los conceptos básicos de Python, incluyendo tipos, expresiones, variables y operaciones con cadenas.\n",
    "- En el **Módulo 2**, cubrirás las estructuras de datos de Python, incluyendo listas, tuplas, diccionarios y conjuntos.\n",
    "- En el **Módulo 3**, aprenderás los fundamentos de la programación en Python, como condiciones, ramificaciones, bucles, funciones, objetos y clases.\n",
    "- En el **Módulo 4**, aprenderás cómo trabajar con datos, incluyendo la carga de datos con las funciones integradas de Python, utilizando bibliotecas populares como NumPy y Pandas, seguido por interfaces de programación de aplicaciones, o APIs.\n",
    "\n",
    "Aplicarás lo que aprendas realizando proyectos que utilizan conjuntos de datos del mundo real.\n",
    "\n",
    "Si tienes alguna pregunta o necesitas una aclaración, no dudes en publicar en el foro de discusión del curso.\n",
    "\n",
    "Buena suerte y feliz aprendizaje.\n"
   ]
  }
 ],
 "metadata": {
  "language_info": {
   "name": "python"
  }
 },
 "nbformat": 4,
 "nbformat_minor": 2
}
