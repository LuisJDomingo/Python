{
 "cells": [
  {
   "cell_type": "markdown",
   "metadata": {},
   "source": [
    "# Esquema de Calificación\n",
    "\n",
    "La nota mínima para aprobar el curso es del **70%** con las siguientes ponderaciones:\n",
    "\n",
    "- **50%** - Cuestionarios calificados\n",
    "- **50%** - Examen final\n",
    "\n",
    "Aunque los Cuestionarios Calificados y el Examen Final tienen su respectiva ponderación, la única nota que importa es la nota general del curso.\n",
    "\n",
    "- Los Cuestionarios Calificados no tienen límite de tiempo. Se te anima a revisar el material del curso para encontrar las respuestas. Por favor, recuerda que los Cuestionarios Calificados valen el **50%** de tu calificación final.\n",
    "- El examen final tiene un límite de tiempo de **1 hora**.\n",
    "\n",
    "Los intentos por pregunta, tanto en las Preguntas de Repaso como en el Examen Final, son los siguientes:\n",
    "\n",
    "- **Un intento** - Para preguntas de Verdadero/Falso\n",
    "- **Dos intentos** - Para cualquier pregunta que no sea de Verdadero/Falso\n",
    "\n",
    "No hay penalización por intentos incorrectos.\n",
    "\n",
    "Puedes consultar tus calificaciones en cualquier momento haciendo clic en la pestaña \"Progreso\".\n"
   ]
  },
  {
   "cell_type": "markdown",
   "metadata": {},
   "source": [
    "# Registro de Cambios (CHANGE LOG)\n",
    "\n",
    "### 2024-01-30\n",
    "- Versión actualizada del curso publicada en edX.org.\n",
    "- Mejoras en los cuestionarios de práctica y calificados para evaluar de manera más completa los conocimientos y habilidades adquiridos en el curso.\n",
    "\n",
    "### 2020-09-01\n",
    "- Versión actualizada del curso publicada en edX.org.\n",
    "- Enlaces a laboratorios reemplazados con enlaces de la SN Asset Library.\n",
    "\n",
    "### 2019-03-25\n",
    "- Tarea agregada.\n",
    "\n",
    "### 2017-12-01\n",
    "- Cambios menores en los cuadernos de Jupyter (J.S.).\n",
    "- Orden de los cuadernos de Jupyter cambiado (J.S.).\n",
    "\n",
    "### 2017-11-12\n",
    "- Reformulación de algunas oraciones para mayor claridad.\n",
    "- Corrección de algunos errores tipográficos.\n",
    "\n",
    "### 2017-09-15\n",
    "- Curso recién renovado lanzado.\n"
   ]
  },
  {
   "cell_type": "markdown",
   "metadata": {},
   "source": []
  }
 ],
 "metadata": {
  "language_info": {
   "name": "python"
  }
 },
 "nbformat": 4,
 "nbformat_minor": 2
}
