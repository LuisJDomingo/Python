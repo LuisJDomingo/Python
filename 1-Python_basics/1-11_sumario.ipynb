{
 "cells": [
  {
   "cell_type": "markdown",
   "metadata": {},
   "source": [
    "Python can distinguish among data types such as integers, floats, strings, and Booleans.\n",
    "Integers are whole numbers that can be positive or negative.\n",
    "Floats include integers as well as decimal numbers between the integers.\n",
    "You can convert integers to floats using typecasting, but you cannot convert a float to an integer.\n",
    "You can convert integers and floats to strings.\n",
    "You can convert an integer or float value to True (1) or False (0).\n",
    "Expressions in Python are a combination of values and operations used to produce a single result.\n",
    "Expressions perform mathematical operations such as addition, subtraction, multiplication, and so on.\n",
    "We use\"//\" to round off integer divisions, resulting in float values.\n",
    "Python follows the order of operations (BODMASS) to perform operations with multiple expressions.\n",
    "Variables store and manipulate data, allowing you to access and modify values throughout your code.\n",
    "The assignment operator \"=\" assigns a value to a variable.\n",
    "\":\" denotes the value of the variable within the code.\n",
    "Assigning another value to the same variable overrides the previous value of that variable.\n",
    "You can perform mathematical operations on variables using the same or different variables.\n",
    "While performing operations with various variables, modifying a value in one variable will lead to changes in the other variables.\n",
    "Python string operations involve manipulating text data using tasks such as indexing, concatenation, slicing, and formatting.\n",
    "A string is usually written within double quotes or single quotes, including letters, white space, digits, or special characters.\n",
    "A string attaches to another variable and is an ordered sequence of characters.\n",
    "Characters in a string identify their index numbers, which can be positive or negative.\n",
    "We use strings as a sequence to perform sequence operations. \n",
    "You can input a stride value to perform slicing while operating on a string.\n",
    "Operations like finding the length of the string, combining, concatenating, and replicating, result in a new string.\n",
    "You cannot modify an existing string; they are immutable. \n",
    "You can perform escape sequences using \" \" to change the layout of the string.\n",
    "In Python, you perform tasks such as searching, modifying, and formatting text data with its pre-built String Methods functions.\n",
    "You apply a method to a string to change its value, resulting in another string. \n",
    "You can perform actions such as changing the case of characters in a string, replacing items in a string, finding items in a string, and so on using pre-builtString methods."
   ]
  },
  {
   "cell_type": "markdown",
   "metadata": {},
   "source": []
  }
 ],
 "metadata": {
  "language_info": {
   "name": "python"
  }
 },
 "nbformat": 4,
 "nbformat_minor": 2
}
