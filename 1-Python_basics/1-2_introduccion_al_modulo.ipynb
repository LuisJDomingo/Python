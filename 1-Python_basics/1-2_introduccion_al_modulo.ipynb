{
 "cells": [
  {
   "cell_type": "markdown",
   "metadata": {},
   "source": [
    "# Módulo: Fundamentos de Python\n",
    "\n",
    "Este módulo enseña los conceptos básicos de Python y comienza explorando algunos de los diferentes tipos de datos, como enteros, números reales y cadenas de texto. Continúa con el módulo y aprende cómo utilizar expresiones en operaciones matemáticas, almacenar valores en variables y las muchas formas diferentes de manipular cadenas de texto.\n",
    "\n",
    "---\n",
    "\n",
    "## OBJETIVOS DE APRENDIZAJE\n",
    "\n",
    "- Demostrar una comprensión de los tipos de datos en Python mediante la conversión o conversión de tipos de datos como cadenas de texto, números flotantes y enteros.\n",
    "- Interpretar variables y resolver expresiones aplicando operaciones matemáticas.\n",
    "- Describir cómo manipular cadenas de texto utilizando una variedad de métodos y operaciones.\n",
    "- Crear un programa en JupyterLab para demostrar tus conocimientos sobre tipos de datos, expresiones y variables.\n",
    "- Trabajar con cadenas de texto, manipularlas y realizar operaciones con ellas en Python.\n"
   ]
  },
  {
   "cell_type": "markdown",
   "metadata": {},
   "source": []
  }
 ],
 "metadata": {
  "language_info": {
   "name": "python"
  }
 },
 "nbformat": 4,
 "nbformat_minor": 2
}
