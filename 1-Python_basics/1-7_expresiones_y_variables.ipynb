{
 "cells": [
  {
   "cell_type": "markdown",
   "metadata": {},
   "source": [
    "## Expresiones y Variables en Python\n",
    "\n",
    "En este video, cubriremos expresiones y variables. Las expresiones describen un tipo de operación que realizan las computadoras. Las expresiones son operaciones que realiza Python. Por ejemplo:\n",
    "\n",
    "### Operaciones Aritméticas Básicas\n",
    "\n",
    "- **Suma:** `10 + 50 + 100` resulta en `160`.\n",
    "- **Resta:** `10 - 20` resulta en `-10`.\n",
    "- **Multiplicación:** `5 * 5` resulta en `25`.\n",
    "- **División:**\n",
    "  - `25 / 5` resulta en `5.0`.\n",
    "  - `25 / 6` resulta en aproximadamente `4.167`.\n",
    "\n",
    "En Python 3, la versión que usaremos en este curso, la división siempre resulta en un valor flotante. Para la división de números enteros, podemos usar la doble barra (`//`), donde el resultado se redondea hacia abajo.\n",
    "\n",
    "### Convenciones Matemáticas en Python\n",
    "\n",
    "Python sigue convenciones matemáticas para realizar expresiones matemáticas. Las operaciones entre paréntesis se realizan primero. Luego, se efectúan otras operaciones en el orden de precedencia.\n",
    "\n",
    "### Variables\n",
    "\n",
    "Podemos usar variables para almacenar valores. Por ejemplo, podemos asignar el valor `1` a una variable `mi_variable` usando el operador de asignación `=`:\n",
    "\n",
    "```python\n",
    "mi_variable = 1"
   ]
  },
  {
   "cell_type": "markdown",
   "metadata": {},
   "source": [
    "Luego, podemos usar el valor de `mi_variable` en cualquier lugar del código simplemente escribiendo el nombre exacto de la variable.\n",
    "\n",
    "Podemos asignar un nuevo valor a `mi_variable`:"
   ]
  },
  {
   "cell_type": "code",
   "execution_count": null,
   "metadata": {},
   "outputs": [],
   "source": [
    "mi_variable = 10\n",
    "mi_variable"
   ]
  },
  {
   "cell_type": "markdown",
   "metadata": {},
   "source": [
    "El antiguo valor de la variable ya no es importante. Podemos almacenar los resultados de las expresiones en variables. Por ejemplo, si sumamos varios valores y asignamos el resultado a `x`:"
   ]
  },
  {
   "cell_type": "code",
   "execution_count": null,
   "metadata": {},
   "outputs": [],
   "source": [
    "x = 10 + 20 + 30  # x ahora almacena 60\n",
    "x"
   ]
  },
  {
   "cell_type": "markdown",
   "metadata": {},
   "source": [
    "También podemos realizar operaciones en `x` y guardar el resultado en una nueva variable `y`:"
   ]
  },
  {
   "cell_type": "code",
   "execution_count": null,
   "metadata": {},
   "outputs": [],
   "source": [
    "y = x / 3  # y ahora tiene un valor de 20.0\n",
    "print(y)"
   ]
  },
  {
   "cell_type": "markdown",
   "metadata": {},
   "source": [
    "Es una buena práctica utilizar nombres de variables significativos. Por ejemplo, si quisiéramos convertir el número de minutos en horas, podemos usar variables con nombres descriptivos:"
   ]
  },
  {
   "cell_type": "code",
   "execution_count": null,
   "metadata": {},
   "outputs": [],
   "source": [
    "total_min = 142  # Número total de minutos\n",
    "hora_total = total_min / 60  # Convertir minutos a horas\n"
   ]
  },
  {
   "cell_type": "markdown",
   "metadata": {},
   "source": [
    "El resultado es aproximadamente `2.367` horas. Si cambiamos el valor de `total_min`, el valor de `hora_total` cambiará automáticamente sin necesidad de modificar el resto del código."
   ]
  },
  {
   "cell_type": "markdown",
   "metadata": {},
   "source": []
  }
 ],
 "metadata": {
  "language_info": {
   "name": "python"
  }
 },
 "nbformat": 4,
 "nbformat_minor": 2
}
