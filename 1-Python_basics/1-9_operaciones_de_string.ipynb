{
 "cells": [
  {
   "cell_type": "markdown",
   "metadata": {},
   "source": [
    "<img src=\"https://prod-edx-ai-translations-assets.s3.amazonaws.com/google-translate.png\" alt=\"Traducido por el logotipo de Google\"><br><br>[GENERADO AUTOMÁTICAMENTE]\n",
    "\n",
    "---\n",
    "\n",
    "## Cadenas en Python\n",
    "\n",
    "En Python, una cadena es una secuencia de caracteres. \n",
    "\n",
    "## Definición de una Cadena\n",
    "\n",
    "Una cadena está contenida entre dos comillas dobles o simples:\n",
    "\n"
   ]
  },
  {
   "cell_type": "code",
   "execution_count": null,
   "metadata": {},
   "outputs": [],
   "source": [
    "cadena1 = \"Esta es una cadena\"\n",
    "cadena2 = 'También puede ser una cadena'"
   ]
  },
  {
   "cell_type": "markdown",
   "metadata": {},
   "source": [
    "Una cadena puede contener espacios, dígitos, y caracteres especiales.\n",
    "\n",
    "## Indexación y Acceso\n",
    "Podemos acceder a cada elemento de la cadena mediante un índice. Los índices comienzan en `0`:"
   ]
  },
  {
   "cell_type": "code",
   "execution_count": null,
   "metadata": {},
   "outputs": [],
   "source": [
    "cadena = \"Python es divertido\"\n",
    "primer_elemento = cadena[0]   # 'P'\n",
    "sexto_elemento = cadena[5]   # 'n'\n",
    "indice_negativo = cadena[-1] # 'o' (último elemento)\n"
   ]
  },
  {
   "cell_type": "markdown",
   "metadata": {},
   "source": [
    "La indexación negativa comienza desde el final de la cadena:"
   ]
  },
  {
   "cell_type": "code",
   "execution_count": null,
   "metadata": {},
   "outputs": [],
   "source": [
    "penultimo_elemento = cadena[-2]  # 'd'\n"
   ]
  },
  {
   "cell_type": "markdown",
   "metadata": {},
   "source": [
    "## Operaciones con Cadenas\n",
    "\n",
    "Podemos realizar varias operaciones con cadenas:"
   ]
  },
  {
   "cell_type": "markdown",
   "metadata": {},
   "source": [
    "**Slicing**: Obtener una subcadena:"
   ]
  },
  {
   "cell_type": "code",
   "execution_count": null,
   "metadata": {},
   "outputs": [],
   "source": [
    "subcadena = cadena[0:6]  # 'Python'\n"
   ]
  },
  {
   "cell_type": "markdown",
   "metadata": {},
   "source": [
    "**Stride**: Seleccionar elementos con un intervalo específico:"
   ]
  },
  {
   "cell_type": "code",
   "execution_count": null,
   "metadata": {},
   "outputs": [],
   "source": [
    "cada_dos = cadena[::2]  # 'Pto svd'\n"
   ]
  },
  {
   "cell_type": "markdown",
   "metadata": {},
   "source": [
    "**Longitud**: Usar len para obtener la longitud de la cadena:"
   ]
  },
  {
   "cell_type": "code",
   "execution_count": null,
   "metadata": {},
   "outputs": [],
   "source": [
    "longitud = len(cadena)  # 19\n"
   ]
  },
  {
   "cell_type": "markdown",
   "metadata": {},
   "source": [
    "**Concatenación**: Usar el símbolo `+'  para combinar cadenas:"
   ]
  },
  {
   "cell_type": "code",
   "execution_count": null,
   "metadata": {},
   "outputs": [],
   "source": [
    "cadena1 = \"Hola\"\n",
    "cadena2 = \" Mundo\"\n",
    "combinada = cadena1 + cadena2  # 'Hola Mundo'\n"
   ]
  },
  {
   "cell_type": "markdown",
   "metadata": {},
   "source": [
    "**Replicación**: Multiplicar una cadena para replicarla:"
   ]
  },
  {
   "cell_type": "code",
   "execution_count": null,
   "metadata": {},
   "outputs": [],
   "source": [
    "repetida = cadena * 3  # 'Python es divertidoPython es divertidoPython es divertido'\n"
   ]
  },
  {
   "cell_type": "markdown",
   "metadata": {},
   "source": [
    "## Inmutabilidad de las Cadenas\n",
    "Las cadenas son inmutables, lo que significa que no puedes cambiar su valor una vez creado. Puedes crear una nueva cadena a partir de la original:"
   ]
  },
  {
   "cell_type": "code",
   "execution_count": null,
   "metadata": {},
   "outputs": [],
   "source": [
    "nueva_cadena = cadena + \" y emocionante\"\n"
   ]
  },
  {
   "cell_type": "markdown",
   "metadata": {},
   "source": [
    "## Secuencias de Escape\n",
    "Las secuencias de escape permiten representar caracteres especiales en cadenas:"
   ]
  },
  {
   "cell_type": "markdown",
   "metadata": {},
   "source": [
    "Nueva línea: \\n"
   ]
  },
  {
   "cell_type": "code",
   "execution_count": null,
   "metadata": {},
   "outputs": [],
   "source": [
    "cadena_nueva_linea = \"Primera línea\\nSegunda línea\"\n"
   ]
  },
  {
   "cell_type": "markdown",
   "metadata": {},
   "source": [
    "Tabulación: \\t"
   ]
  },
  {
   "cell_type": "code",
   "execution_count": null,
   "metadata": {},
   "outputs": [],
   "source": [
    "cadena_tab = \"Columna1\\tColumna2\"\n"
   ]
  },
  {
   "cell_type": "markdown",
   "metadata": {},
   "source": [
    "Barra invertida: \\\\"
   ]
  },
  {
   "cell_type": "code",
   "execution_count": null,
   "metadata": {},
   "outputs": [],
   "source": [
    "cadena_barra_invertida = \"Ruta\\\\Archivo\"\n"
   ]
  },
  {
   "cell_type": "markdown",
   "metadata": {},
   "source": [
    "Cadena sin secuencias de escape: Preceder la cadena con r:"
   ]
  },
  {
   "cell_type": "code",
   "execution_count": null,
   "metadata": {},
   "outputs": [],
   "source": [
    "cadena_raw = r\"Ruta\\Archivo\"\n"
   ]
  },
  {
   "cell_type": "markdown",
   "metadata": {},
   "source": [
    "## Métodos de Cadenas\n",
    "Las cadenas tienen métodos útiles que permiten modificar o consultar la cadena:"
   ]
  },
  {
   "cell_type": "markdown",
   "metadata": {},
   "source": [
    "upper(): Convierte caracteres en mayúsculas\n",
    "\n",
    "replace(): Reemplaza una subcadena por otra"
   ]
  },
  {
   "cell_type": "code",
   "execution_count": null,
   "metadata": {},
   "outputs": [],
   "source": [
    "cadena = \"Hola mundo\"\n",
    "nueva_cadena = cadena.replace(\"mundo\", \"universo\")  # 'Hola universo'\n"
   ]
  },
  {
   "cell_type": "markdown",
   "metadata": {},
   "source": [
    "find(): Busca la subcadena y devuelve el índice de la primera aparición:"
   ]
  },
  {
   "cell_type": "code",
   "execution_count": null,
   "metadata": {},
   "outputs": [],
   "source": [
    "indice = cadena.find(\"mundo\")  # 5\n"
   ]
  },
  {
   "cell_type": "markdown",
   "metadata": {},
   "source": [
    "Si la subcadena no está presente, el resultado es `-1`."
   ]
  },
  {
   "cell_type": "markdown",
   "metadata": {},
   "source": []
  }
 ],
 "metadata": {
  "language_info": {
   "name": "python"
  }
 },
 "nbformat": 4,
 "nbformat_minor": 2
}
