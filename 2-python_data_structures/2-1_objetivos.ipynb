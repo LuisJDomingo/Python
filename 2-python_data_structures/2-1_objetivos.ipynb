{
 "cells": [
  {
   "cell_type": "markdown",
   "metadata": {},
   "source": [
    "## Introducción al Módulo\n",
    "\n",
    "Este módulo comienza un viaje hacia las estructuras de datos en Python, explicando el uso de listas y tuplas, y cómo pueden almacenar colecciones de datos en una sola variable.\n",
    "\n",
    "A continuación, aprenderás sobre los diccionarios y cómo funcionan al almacenar datos en pares de claves y valores, y terminarás con los conjuntos en Python para aprender cómo este tipo de colección puede aparecer en cualquier orden y solo contendrá elementos únicos.\n",
    "\n",
    "## Objetivos de Aprendizaje\n",
    "\n",
    "En este módulo, podrás:\n",
    "\n",
    "- **Describir y manipular combinaciones de tuplas y estructuras de datos de listas.**\n",
    "- **Ejecutar operaciones básicas con tuplas en Python.**\n",
    "- **Realizar operaciones con listas en Python.**\n",
    "- **Escribir estructuras con claves y valores correctos para demostrar la comprensión de los diccionarios.**\n",
    "- **Trabajar y realizar operaciones en diccionarios en Python.**\n",
    "- **Crear conjuntos para demostrar la comprensión de las diferencias entre conjuntos, tuplas y listas.**\n",
    "- **Trabajar con conjuntos en Python, incluyendo operaciones y operaciones lógicas.**\n"
   ]
  },
  {
   "cell_type": "markdown",
   "metadata": {},
   "source": []
  }
 ],
 "metadata": {
  "language_info": {
   "name": "python"
  }
 },
 "nbformat": 4,
 "nbformat_minor": 2
}
