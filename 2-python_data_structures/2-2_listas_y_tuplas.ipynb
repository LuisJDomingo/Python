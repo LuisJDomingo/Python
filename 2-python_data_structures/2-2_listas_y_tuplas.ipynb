{
 "cells": [
  {
   "cell_type": "markdown",
   "metadata": {},
   "source": [
    "## Listas y Tuplas en Python\n",
    "\n",
    "En este vídeo cubriremos listas y tuplas. Estos se denominan tipos de datos compuestos y son uno de los tipos de datos clave en Python.\n",
    "\n",
    "### Tuplas\n",
    "\n",
    "Las tuplas son una secuencia ordenada. Aquí hay una tupla llamada `calificaciones`. Las tuplas se expresan como elementos separados por comas entre paréntesis.\n",
    "\n",
    "**Tipos de datos en una tupla:**\n",
    "- Cadenas\n",
    "- Enteros\n",
    "- Flotantes\n",
    "\n",
    "Se puede acceder a cada elemento de una tupla mediante un índice. La siguiente tabla representa la relación entre el índice y los elementos de la tupla:\n",
    "\n",
    "- El primer elemento se accede mediante el nombre de la tupla seguido de un corchete con el número de índice, en este caso cero.\n",
    "- Podemos acceder al segundo elemento de la siguiente manera.\n",
    "- También podemos acceder al último elemento usando un índice negativo.\n",
    "\n",
    "**Operaciones con tuplas:**\n",
    "- **Concatenación:** Podemos combinar tuplas sumándolas.\n",
    "- **División:** Podemos obtener múltiples elementos de una tupla usando cortes. Por ejemplo, para los primeros tres elementos, usamos el comando `[:3]`.\n",
    "- **Longitud:** Usamos el comando `len` para obtener la longitud de una tupla.\n",
    "\n",
    "Las tuplas son inmutables, lo que significa que no podemos cambiarlas una vez creadas. Si queremos manipular una tupla, debemos crear una nueva. \n",
    "\n",
    "**Ejemplo de anidación:** Una tupla puede contener otras tuplas. Esto se llama anidación y se puede visualizar como un árbol.\n",
    "\n",
    "### Listas\n",
    "\n",
    "Las listas son similares a las tuplas, pero son mutables. Se representan entre corchetes.\n",
    "\n",
    "**Características de las listas:**\n",
    "- Pueden contener cadenas, flotantes y números enteros.\n",
    "- Pueden anidar otras listas y tuplas.\n",
    "\n",
    "**Operaciones con listas:**\n",
    "- **Acceso a elementos:** Se accede mediante un índice, similar a las tuplas.\n",
    "- **Concatenación:** Podemos combinar listas agregándolas.\n",
    "- **Métodos de modificación:** \n",
    "  - `extend()`: Añade una lista a otra.\n",
    "  - `append()`: Añade un solo elemento a la lista.\n",
    "  - `del`: Elimina un elemento de la lista.\n",
    "- **Conversión de cadena a lista:** Usamos el método `split()` para dividir una cadena en una lista de elementos.\n",
    "\n",
    "**Alias:** Cuando igualamos una variable `B` a `A`, ambos hacen referencia a la misma lista. Cambiar `A` afectará a `B` y viceversa. \n",
    "\n",
    "**Clonación:** Para clonar una lista, usamos la siguiente sintaxis: `B = A[:]`. Ahora, si cambias `A`, `B` no cambiará.\n",
    "\n",
    "Para obtener más información sobre listas, tuplas y muchos otros objetos en Python, usa el comando de ayuda. Consulta los laboratorios para ver más ejemplos y prácticas.\n"
   ]
  },
  {
   "cell_type": "markdown",
   "metadata": {},
   "source": []
  }
 ],
 "metadata": {
  "language_info": {
   "name": "python"
  }
 },
 "nbformat": 4,
 "nbformat_minor": 2
}
