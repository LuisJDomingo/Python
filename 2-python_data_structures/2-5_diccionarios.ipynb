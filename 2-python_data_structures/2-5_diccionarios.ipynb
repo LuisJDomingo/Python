{
 "cells": [
  {
   "cell_type": "markdown",
   "metadata": {},
   "source": [
    "## Diccionarios en Python\n",
    "\n",
    "Abarquemos los diccionarios en Python. Los diccionarios son un tipo de colección en Python.\n",
    "\n",
    "### Conceptos Básicos\n",
    "\n",
    "- **Listas vs Diccionarios:** Mientras que las listas utilizan índices enteros (que son como direcciones) para acceder a sus elementos, los diccionarios utilizan claves y valores.\n",
    "- **Claves:** Son análogas a los índices en listas, pero no tienen por qué ser números enteros. A menudo, son cadenas.\n",
    "- **Valores:** Son similares a los elementos en una lista y contienen información.\n",
    "\n",
    "### Crear un Diccionario\n",
    "\n",
    "Para crear un diccionario, usamos llaves `{}`. Los elementos se estructuran como pares de clave y valor separados por dos puntos:\n",
    "\n",
    "\n"
   ]
  },
  {
   "cell_type": "code",
   "execution_count": 2,
   "metadata": {},
   "outputs": [],
   "source": [
    "diccionario = {\n",
    "    \"clave1\": \"valor1\",\n",
    "    \"clave2\": \"valor2\"\n",
    "}"
   ]
  },
  {
   "cell_type": "markdown",
   "metadata": {},
   "source": [
    "**Claves**: Deben ser inmutables y únicas.\n",
    "\n",
    "**Valores**: Pueden ser inmutables, mutables y duplicados.\n",
    "\n",
    "### Ejemplo de Diccionario\n",
    "Considera el siguiente ejemplo de un diccionario:"
   ]
  },
  {
   "cell_type": "code",
   "execution_count": 3,
   "metadata": {},
   "outputs": [],
   "source": [
    "albums = {\n",
    "    \"Back in Black\": 1980,\n",
    "    \"The Dark Side of the Moon\": 1973,\n",
    "    \"The Bodyguard\": 1992\n",
    "}\n"
   ]
  },
  {
   "cell_type": "markdown",
   "metadata": {},
   "source": [
    "En este diccionario:\n",
    "\n",
    "Las claves son los títulos de los álbumes.\n",
    "Los valores son los años de publicación.\n",
    "\n",
    "### Acceso a Elementos\n",
    "Para acceder a un valor en el diccionario, usamos la clave y corchetes []:"
   ]
  },
  {
   "cell_type": "code",
   "execution_count": 4,
   "metadata": {},
   "outputs": [
    {
     "name": "stdout",
     "output_type": "stream",
     "text": [
      "1980\n",
      "1973\n"
     ]
    }
   ],
   "source": [
    "print(albums[\"Back in Black\"])  # Salida: 1980\n",
    "print(albums[\"The Dark Side of the Moon\"])  # Salida: 1973\n"
   ]
  },
  {
   "cell_type": "markdown",
   "metadata": {},
   "source": [
    "### Modificar el Diccionario\n",
    "**Agregar una Entrada**:"
   ]
  },
  {
   "cell_type": "code",
   "execution_count": 5,
   "metadata": {},
   "outputs": [
    {
     "name": "stdout",
     "output_type": "stream",
     "text": [
      "{'Back in Black': 1980, 'The Dark Side of the Moon': 1973, 'The Bodyguard': 1992, 'Graduation': 2007}\n"
     ]
    }
   ],
   "source": [
    "albums[\"Graduation\"] = 2007\n",
    "\n",
    "print(albums)"
   ]
  },
  {
   "cell_type": "markdown",
   "metadata": {},
   "source": [
    "**Eliminar una Entrada**:"
   ]
  },
  {
   "cell_type": "code",
   "execution_count": 7,
   "metadata": {},
   "outputs": [
    {
     "name": "stdout",
     "output_type": "stream",
     "text": [
      "{'Back in Black': 1980, 'The Dark Side of the Moon': 1973, 'The Bodyguard': 1992}\n"
     ]
    }
   ],
   "source": [
    "del albums[\"Graduation\"]\n",
    "\n",
    "print(albums)"
   ]
  },
  {
   "cell_type": "markdown",
   "metadata": {},
   "source": [
    "### Verificar Existencia\n",
    "Podemos verificar si una clave está en el diccionario usando el comando `in`:"
   ]
  },
  {
   "cell_type": "code",
   "execution_count": 8,
   "metadata": {},
   "outputs": [
    {
     "name": "stdout",
     "output_type": "stream",
     "text": [
      "True\n",
      "False\n"
     ]
    }
   ],
   "source": [
    "print(\"Back in Black\" in albums)  # Salida: True\n",
    "print(\"Thriller\" in albums)  # Salida: False\n"
   ]
  },
  {
   "cell_type": "markdown",
   "metadata": {},
   "source": [
    "### Obtener Claves y Valores\n",
    "\n",
    "**Obtener Claves**:"
   ]
  },
  {
   "cell_type": "code",
   "execution_count": 11,
   "metadata": {},
   "outputs": [
    {
     "name": "stdout",
     "output_type": "stream",
     "text": [
      "dict_keys(['Back in Black', 'The Dark Side of the Moon', 'The Bodyguard'])\n"
     ]
    }
   ],
   "source": [
    "claves = albums.keys()\n",
    "\n",
    "print(claves)"
   ]
  },
  {
   "cell_type": "markdown",
   "metadata": {},
   "source": [
    "**Obtener Valores**:"
   ]
  },
  {
   "cell_type": "code",
   "execution_count": 12,
   "metadata": {},
   "outputs": [
    {
     "name": "stdout",
     "output_type": "stream",
     "text": [
      "dict_values([1980, 1973, 1992])\n"
     ]
    }
   ],
   "source": [
    "valores = albums.values()\n",
    "\n",
    "print(valores)"
   ]
  },
  {
   "cell_type": "markdown",
   "metadata": {},
   "source": [
    "La salida es un objeto similar a una lista con todas las claves o valores.\n"
   ]
  },
  {
   "cell_type": "markdown",
   "metadata": {},
   "source": []
  }
 ],
 "metadata": {
  "kernelspec": {
   "display_name": "Python 3",
   "language": "python",
   "name": "python3"
  },
  "language_info": {
   "codemirror_mode": {
    "name": "ipython",
    "version": 3
   },
   "file_extension": ".py",
   "mimetype": "text/x-python",
   "name": "python",
   "nbconvert_exporter": "python",
   "pygments_lexer": "ipython3",
   "version": "3.11.6"
  }
 },
 "nbformat": 4,
 "nbformat_minor": 2
}
