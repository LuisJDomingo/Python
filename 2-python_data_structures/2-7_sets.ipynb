{
 "cells": [
  {
   "cell_type": "markdown",
   "metadata": {},
   "source": [
    "## Conjuntos en Python\n",
    "\n",
    "### Conceptos Básicos\n",
    "\n",
    "Los conjuntos también son un tipo de colección en Python. A diferencia de las listas y las tuplas, los conjuntos no están ordenados y solo contienen elementos únicos. Esto significa que no registran la posición de los elementos y no permiten duplicados.\n",
    "\n",
    "### Crear un Conjunto\n",
    "\n",
    "Para definir un conjunto, se utilizan llaves `{}`. Los elementos se colocan dentro de las llaves. Si se introducen elementos duplicados, solo se conservará una instancia de cada elemento en el conjunto.\n",
    "\n",
    "- **Conversión de Listas a Conjuntos:** Puedes convertir una lista en un conjunto utilizando la función `set`. Esto eliminará cualquier duplicado de la lista."
   ]
  },
  {
   "cell_type": "code",
   "execution_count": 2,
   "metadata": {},
   "outputs": [
    {
     "name": "stdout",
     "output_type": "stream",
     "text": [
      "{1, 2, 3}\n"
     ]
    }
   ],
   "source": [
    "lista = [1, 2, 2, 3]\n",
    "conjunto = set(lista)  # Resultado: {1, 2, 3}\n",
    "\n",
    "print(conjunto)"
   ]
  },
  {
   "cell_type": "markdown",
   "metadata": {},
   "source": [
    "### Operaciones Básicas con Conjuntos\n",
    "**Agregar Elementos**: Usa el método add para añadir un nuevo elemento a un conjunto."
   ]
  },
  {
   "cell_type": "code",
   "execution_count": 3,
   "metadata": {},
   "outputs": [],
   "source": [
    "conjunto.add(\"NSYNC\")\n"
   ]
  },
  {
   "cell_type": "markdown",
   "metadata": {},
   "source": [
    "**Eliminar Elementos**: Usa el método remove para eliminar un elemento de un conjunto."
   ]
  },
  {
   "cell_type": "code",
   "execution_count": 4,
   "metadata": {},
   "outputs": [],
   "source": [
    "conjunto.remove(\"NSYNC\")\n"
   ]
  },
  {
   "cell_type": "markdown",
   "metadata": {},
   "source": [
    "**Verificar Existencia**: Usa el comando in para comprobar si un elemento está en el conjunto."
   ]
  },
  {
   "cell_type": "code",
   "execution_count": null,
   "metadata": {},
   "outputs": [],
   "source": [
    "print(\"AC/DC\" in conjunto)  # Salida: True\n",
    "print(\"Who\" in conjunto)  # Salida: False\n"
   ]
  },
  {
   "cell_type": "markdown",
   "metadata": {},
   "source": [
    "### Operaciones Matemáticas con Conjuntos\n",
    "**Intersección**: Encuentra los elementos que están en ambos conjuntos. En Python, usa el operador `&` para encontrar la intersección."
   ]
  },
  {
   "cell_type": "code",
   "execution_count": 8,
   "metadata": {},
   "outputs": [],
   "source": [
    "conjunto1 = {\"AC/DC\", \"Back in Black\"}\n",
    "conjunto2 = {\"Back in Black\", \"The Dark Side of the Moon\"}\n",
    "interseccion = conjunto1 & conjunto2  # Resultado: {\"Back in Black\"}\n"
   ]
  },
  {
   "cell_type": "markdown",
   "metadata": {},
   "source": [
    "**Unión**: Encuentra todos los elementos que están en cualquiera de los conjuntos. En Python, usa el operador `|` para encontrar la unión."
   ]
  },
  {
   "cell_type": "code",
   "execution_count": 9,
   "metadata": {},
   "outputs": [],
   "source": [
    "union = conjunto1 | conjunto2  # Resultado: {\"AC/DC\", \"Back in Black\", \"The Dark Side of the Moon\"}\n"
   ]
  },
  {
   "cell_type": "markdown",
   "metadata": {},
   "source": [
    "**Subconjunto**: Usa el método issubset para verificar si un conjunto es un subconjunto de otro."
   ]
  },
  {
   "cell_type": "code",
   "execution_count": 10,
   "metadata": {},
   "outputs": [
    {
     "name": "stdout",
     "output_type": "stream",
     "text": [
      "False\n"
     ]
    }
   ],
   "source": [
    "print(conjunto1.issubset(conjunto2))  # Salida: False\n"
   ]
  },
  {
   "cell_type": "markdown",
   "metadata": {},
   "source": [
    "### Representación Visual\n",
    "**Diagramas de Venn**: Utilizan formas para representar conjuntos y sus intersecciones o uniones."
   ]
  },
  {
   "cell_type": "markdown",
   "metadata": {},
   "source": [
    "## Conclusión\n",
    "Los conjuntos en Python ofrecen varias operaciones útiles para manejar colecciones de elementos únicos. Consulta los laboratorios para ver más ejemplos y obtener más información."
   ]
  },
  {
   "cell_type": "markdown",
   "metadata": {},
   "source": []
  }
 ],
 "metadata": {
  "kernelspec": {
   "display_name": "Python 3",
   "language": "python",
   "name": "python3"
  },
  "language_info": {
   "codemirror_mode": {
    "name": "ipython",
    "version": 3
   },
   "file_extension": ".py",
   "mimetype": "text/x-python",
   "name": "python",
   "nbconvert_exporter": "python",
   "pygments_lexer": "ipython3",
   "version": "3.11.6"
  }
 },
 "nbformat": 4,
 "nbformat_minor": 2
}
