{
 "cells": [
  {
   "cell_type": "markdown",
   "metadata": {},
   "source": [
    "# ¡Felicidades!\n",
    "\n",
    "Has completado este módulo. En este punto, sabes que:\n",
    "\n",
    "## Tuplas en Python\n",
    "\n",
    "- Usamos las tuplas para agrupar datos relacionados. Las tuplas son colecciones ordenadas e inmutables de elementos.\n",
    "- Se escriben como elementos separados por comas entre paréntesis `()`.\n",
    "- Puedes incluir cadenas, enteros y flotantes en las tuplas y acceder a ellos usando índices tanto positivos como negativos.\n",
    "- Puedes realizar operaciones como combinar, concatenar y cortar (slicing) en las tuplas.\n",
    "- Las tuplas son inmutables, por lo que necesitas crear una nueva tupla para manipularla.\n",
    "- Las tuplas, llamadas anidación, pueden incluir otras tuplas de tipos de datos complejos.\n",
    "- Puedes acceder a los elementos en una tupla anidada mediante indexación.\n",
    "\n",
    "## Listas en Python\n",
    "\n",
    "- Las listas contienen colecciones ordenadas de elementos que pueden ser de diferentes tipos y son mutables, lo que permite un almacenamiento y manipulación de datos versátil.\n",
    "- Las listas son una secuencia ordenada, representada con corchetes `[]`.\n",
    "- Las listas tienen mutabilidad, por lo que son similares a las tuplas pero modificables.\n",
    "- Una lista puede contener cadenas, enteros y flotantes; puedes anidar otras listas dentro de ella.\n",
    "- Puedes acceder a cada elemento en una lista usando índices tanto positivos como negativos.\n",
    "- Concatenar o agregar a una lista resultará en la modificación de la misma lista.\n",
    "- Puedes realizar operaciones como agregar, eliminar, dividir, etc., en una lista.\n",
    "- Puedes separar los elementos en una lista utilizando delimitadores.\n",
    "- La creación de alias ocurre cuando varios nombres se refieren al mismo objeto.\n",
    "- También puedes clonar una lista para crear otra lista.\n",
    "\n",
    "## Diccionarios en Python\n",
    "\n",
    "- Los diccionarios son pares clave-valor que proporcionan una forma flexible de almacenar y recuperar datos basados en claves únicas.\n",
    "- Los diccionarios consisten en claves y valores, ambos compuestos por elementos de cadena.\n",
    "- Se representan utilizando llaves `{}`.\n",
    "- Las claves deben ser inmutables y únicas.\n",
    "- Los valores pueden ser inmutables o mutables, y permiten duplicados.\n",
    "- Se separan cada par de clave-valor con una coma, y puedes utilizar resaltado de colores para hacer la clave más visible.\n",
    "- Puedes asignar diccionarios a una variable.\n",
    "- Usas la clave como argumento para recuperar el valor correspondiente.\n",
    "- Puedes hacer adiciones y eliminaciones en los diccionarios.\n",
    "- Puedes realizar una operación en un diccionario para verificar la clave, lo que resulta en una salida verdadera o falsa.\n",
    "- Puedes aplicar métodos para obtener una lista de claves y valores en un diccionario.\n",
    "\n",
    "## Conjuntos en Python\n",
    "\n",
    "- Los conjuntos son colecciones de elementos únicos, útiles para tareas como eliminar duplicados y realizar operaciones de conjuntos como unión e intersección. Los conjuntos no tienen un orden particular.\n",
    "- Se definen utilizando llaves `{}`.\n",
    "- Los conjuntos no contienen elementos duplicados.\n",
    "- Una lista pasada a través de la función `set` genera un conjunto que contiene elementos únicos.\n",
    "- Usas “Operaciones de Conjuntos” para realizar acciones como agregar, eliminar y verificar elementos en un conjunto.\n",
    "- Puedes combinar conjuntos utilizando el operador ampersand `&` para obtener los elementos comunes entre ambos conjuntos.\n",
    "- Puedes usar la función de Unión para combinar dos conjuntos, incluyendo tanto los elementos comunes como los únicos de ambos conjuntos.\n",
    "- El método `issubset` se usa para determinar si dos o más conjuntos son subconjuntos.\n"
   ]
  },
  {
   "cell_type": "markdown",
   "metadata": {},
   "source": []
  }
 ],
 "metadata": {
  "kernelspec": {
   "display_name": "Python 3",
   "language": "python",
   "name": "python3"
  },
  "language_info": {
   "name": "python",
   "version": "3.11.6"
  }
 },
 "nbformat": 4,
 "nbformat_minor": 2
}
