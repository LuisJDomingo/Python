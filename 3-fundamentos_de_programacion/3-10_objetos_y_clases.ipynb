{
 "cells": [
  {
   "cell_type": "markdown",
   "metadata": {},
   "source": [
    "Es el momento de hablar sobre **objetos** y **clases**.\n",
    "\n",
    "Python tiene muchos tipos de datos diferentes: enteros, flotantes, cadenas, listas, diccionarios, booleanos. En Python, cada uno es un objeto. Cada objeto tiene:\n",
    "\n",
    "- Un tipo.\n",
    "- Una representación interna.\n",
    "- Un conjunto de funciones llamadas métodos para interactuar con los datos.\n",
    "\n",
    "Un objeto es una instancia de un tipo particular. Por ejemplo, si tenemos dos tipos, **Tipo Uno** y **Tipo Dos**, podemos tener varios objetos de **Tipo Uno** y varios objetos de **Tipo Dos**.\n",
    "\n",
    "### Ejemplos de Objetos\n",
    "\n",
    "Cada vez que creamos un entero, estamos creando una instancia del tipo entero. De manera similar, cada vez que creamos una lista, estamos creando una instancia del tipo lista.\n",
    "\n",
    "Podemos averiguar el tipo de un objeto usando el comando `type`.\n"
   ]
  },
  {
   "cell_type": "code",
   "execution_count": null,
   "metadata": {},
   "outputs": [],
   "source": [
    "# Ejemplos de tipos de objetos\n",
    "print(type([1, 2, 3]))  # <class 'list'>\n",
    "print(type(42))         # <class 'int'>\n",
    "print(type(\"Hola\"))    # <class 'str'>\n",
    "print(type({'clave': 'valor'}))  # <class 'dict'>"
   ]
  },
  {
   "cell_type": "markdown",
   "metadata": {},
   "source": [
    "### Métodos de una Clase\n",
    "Los métodos son funciones proporcionadas por una clase para interactuar con sus datos. Por ejemplo, en listas, el método `sort` cambia el orden de los datos en el objeto."
   ]
  },
  {
   "cell_type": "code",
   "execution_count": 1,
   "metadata": {},
   "outputs": [
    {
     "name": "stdout",
     "output_type": "stream",
     "text": [
      "[70, 80, 90]\n",
      "[90, 80, 70]\n"
     ]
    }
   ],
   "source": [
    "# Ejemplo de método\n",
    "calificaciones = [90, 80, 70]\n",
    "calificaciones.sort()  # Ordena la lista\n",
    "print(calificaciones)  # [70, 80, 90]\n",
    "calificaciones.reverse()  # Invierte el orden de la lista\n",
    "print(calificaciones)  # [90, 80, 70]\n"
   ]
  },
  {
   "cell_type": "markdown",
   "metadata": {},
   "source": [
    "### Crear Tus Propias Clases\n",
    "Puedes crear tu propio tipo o clase en Python. Las clases tienen atributos de datos y métodos. Aquí crearemos dos clases: Círculo y Rectángulo.\n",
    "\n",
    "#### Clase Círculo\n",
    "Para definir una clase en Python, usas la palabra clave `class`, seguida del nombre de la clase. Los atributos de datos para un círculo son `radio` y `color`."
   ]
  },
  {
   "cell_type": "code",
   "execution_count": 2,
   "metadata": {},
   "outputs": [],
   "source": [
    "class Circulo:\n",
    "    def __init__(self, radio, color):\n",
    "        self.radio = radio\n",
    "        self.color = color\n"
   ]
  },
  {
   "cell_type": "markdown",
   "metadata": {},
   "source": [
    "#### Clase Rectángulo\n",
    "De manera similar, definimos la clase Rectángulo con los atributos de datos `color`, `altura` y `ancho`."
   ]
  },
  {
   "cell_type": "code",
   "execution_count": 4,
   "metadata": {},
   "outputs": [],
   "source": [
    "class Rectangulo:\n",
    "    def __init__(self, color, altura, ancho):\n",
    "        self.color = color\n",
    "        self.altura = altura\n",
    "        self.ancho = ancho\n"
   ]
  },
  {
   "cell_type": "markdown",
   "metadata": {},
   "source": [
    "### Crear Instancias de Clases\n",
    "Para crear un objeto de una clase, usamos el constructor de la clase."
   ]
  },
  {
   "cell_type": "code",
   "execution_count": 5,
   "metadata": {},
   "outputs": [],
   "source": [
    "# Crear instancias de la clase Circulo\n",
    "circulo_rojo = Circulo(radio=4, color='rojo')\n",
    "circulo_verde = Circulo(radio=2, color='verde')\n",
    "\n",
    "# Crear instancias de la clase Rectangulo\n",
    "rectangulo_azul = Rectangulo(color='azul', altura=2, ancho=2)\n",
    "rectangulo_amarillo = Rectangulo(color='amarillo', altura=1, ancho=3)\n"
   ]
  },
  {
   "cell_type": "markdown",
   "metadata": {},
   "source": [
    "### Métodos en Clases\n",
    "Puedes agregar métodos a las clases para modificar sus atributos. Por ejemplo, para cambiar el tamaño de un círculo:"
   ]
  },
  {
   "cell_type": "code",
   "execution_count": 6,
   "metadata": {},
   "outputs": [],
   "source": [
    "class Circulo:\n",
    "    def __init__(self, radio, color):\n",
    "        self.radio = radio\n",
    "        self.color = color\n",
    "\n",
    "    def agregar_radio(self, r):\n",
    "        self.radio += r\n"
   ]
  },
  {
   "cell_type": "markdown",
   "metadata": {},
   "source": [
    "#### Usar Métodos"
   ]
  },
  {
   "cell_type": "code",
   "execution_count": 7,
   "metadata": {},
   "outputs": [
    {
     "name": "stdout",
     "output_type": "stream",
     "text": [
      "10\n"
     ]
    }
   ],
   "source": [
    "# Crear un objeto y usar el método\n",
    "mi_circulo = Circulo(radio=2, color='rojo')\n",
    "mi_circulo.agregar_radio(8)\n",
    "print(mi_circulo.radio)  # 10\n"
   ]
  },
  {
   "cell_type": "markdown",
   "metadata": {},
   "source": [
    "#### Consultar Atributos y Métodos\n",
    "Puedes acceder a los atributos y métodos de un objeto usando la notación de punto. La función `dir` es útil para obtener una lista de atributos y métodos asociados con una clase."
   ]
  },
  {
   "cell_type": "code",
   "execution_count": 8,
   "metadata": {},
   "outputs": [
    {
     "name": "stdout",
     "output_type": "stream",
     "text": [
      "['__class__', '__delattr__', '__dict__', '__dir__', '__doc__', '__eq__', '__format__', '__ge__', '__getattribute__', '__getstate__', '__gt__', '__hash__', '__init__', '__init_subclass__', '__le__', '__lt__', '__module__', '__ne__', '__new__', '__reduce__', '__reduce_ex__', '__repr__', '__setattr__', '__sizeof__', '__str__', '__subclasshook__', '__weakref__', 'agregar_radio', 'color', 'radio']\n"
     ]
    }
   ],
   "source": [
    "print(dir(mi_circulo))  # Lista de atributos y métodos\n"
   ]
  },
  {
   "cell_type": "markdown",
   "metadata": {},
   "source": [
    "### Resumen\n",
    "Hemos cubierto cómo crear y utilizar objetos y clases en Python, cómo definir atributos y métodos, y cómo crear instancias de clases. Para más información sobre objetos en Python, visita Python.org."
   ]
  }
 ],
 "metadata": {
  "kernelspec": {
   "display_name": "Python 3",
   "language": "python",
   "name": "python3"
  },
  "language_info": {
   "codemirror_mode": {
    "name": "ipython",
    "version": 3
   },
   "file_extension": ".py",
   "mimetype": "text/x-python",
   "name": "python",
   "nbconvert_exporter": "python",
   "pygments_lexer": "ipython3",
   "version": "3.11.6"
  }
 },
 "nbformat": 4,
 "nbformat_minor": 2
}
