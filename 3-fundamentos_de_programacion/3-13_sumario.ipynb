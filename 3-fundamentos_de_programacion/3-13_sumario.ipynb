{
 "cells": [
  {
   "cell_type": "markdown",
   "metadata": {},
   "source": [
    "## Resumen de Conceptos de Programación en Python\n",
    "\n",
    "### **Condiciones en Python**\n",
    "- **Sentencias if**: Ejecutan código basado en condiciones verdaderas/falsas.\n",
    "- **Operadores de Comparación**: Usados para comparar valores. Los operadores comunes incluyen `==` (igual a), `>` (mayor que), `<` (menor que) y `!=` (no igual a).\n",
    "- **Expresiones Booleanas**: Evalúan a `True` o `False`.\n",
    "\n",
    "### **Ramificación**\n",
    "- **Sentencia if**: Ejecuta un bloque de código si su condición es verdadera.\n",
    "- **Sentencia else**: Ejecuta código si la condición del `if` es falsa.\n",
    "- **Sentencia elif**: Permite comprobar condiciones adicionales si las condiciones anteriores son falsas.\n",
    "\n",
    "### **Lógica Booleana**\n",
    "- **Operadores Booleanos**: Usados para combinar o modificar valores booleanos.\n",
    "\n",
    "### **Bucles**\n",
    "- **Bucles for**: Iteran sobre una secuencia (lista, tupla, cadena) y ejecutan código para cada elemento.\n",
    "- **Bucles while**: Ejecutan código mientras una condición específica sea verdadera.\n",
    "- **Función range()**: Genera una secuencia de números para usar en bucles.\n",
    "\n",
    "### **Funciones**\n",
    "- **Funciones Incorporadas**: Ejemplos incluyen `len` (longitud), `sum` (total), `sorted` (crea una nueva lista ordenada) y `sort` (ordena la lista original).\n",
    "- **Funciones Personalizadas**: Definidas usando `def`, pueden tener múltiples parámetros y a menudo devuelven resultados.\n",
    "- **Cadenas de Documentación**: Usan comillas triples para documentar funciones.\n",
    "- **Comando Help**: Recupera documentación para funciones.\n",
    "- **Sin Retorno**: Las funciones se pueden definir sin una declaración de retorno, y `pass` se puede usar para crear una función que no haga nada.\n",
    "\n",
    "### **Alcance de las Variables**\n",
    "- **Variables Locales**: Definidas dentro de un bloque o función y accesibles solo dentro de ese alcance.\n",
    "- **Variables Globales**: Definidas en el nivel superior de un programa y accesibles desde cualquier parte del código.\n",
    "\n",
    "### **Manejo de Excepciones**\n",
    "- **try-except**: Maneja errores y excepciones para evitar que el programa se bloquee.\n",
    "- **try-except-else**: Incluye un bloque `else` para ejecutar código cuando no ocurren excepciones.\n",
    "- **try-except-else-finally**: Asegura que el bloque `finally` se ejecute independientemente de si ocurrió una excepción.\n",
    "\n",
    "### **Objetos y Clases**\n",
    "- **Objetos**: Instancias de clases que encapsulan datos y comportamientos.\n",
    "- **Clases**: Planos para crear objetos con atributos y métodos definidos.\n",
    "- **Métodos**: Funciones definidas dentro de una clase para interactuar con sus atributos.\n",
    "- **Método init**: Método especial usado para inicializar atributos de datos de los objetos.\n",
    "\n",
    "### **Comandos Clave**\n",
    "- **type()**: Determina el tipo de un objeto.\n"
   ]
  },
  {
   "cell_type": "markdown",
   "metadata": {},
   "source": []
  }
 ],
 "metadata": {
  "language_info": {
   "name": "python"
  }
 },
 "nbformat": 4,
 "nbformat_minor": 2
}
