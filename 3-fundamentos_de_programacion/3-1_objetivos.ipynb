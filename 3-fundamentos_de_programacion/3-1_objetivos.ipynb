{
 "cells": [
  {
   "cell_type": "markdown",
   "metadata": {},
   "source": [
    "# Módulo: Fundamentos de Python\n",
    "\n",
    "Este módulo aborda los fundamentos de Python y comienza con los conceptos de condiciones y ramificación. Continúa a través del módulo y aprende cómo implementar bucles para iterar sobre secuencias, crear funciones para realizar una tarea específica, manejar excepciones para capturar errores y cómo las clases son necesarias para crear objetos.\n",
    "\n",
    "## Objetivos de Aprendizaje\n",
    "\n",
    "En este módulo aprenderás sobre:\n",
    "\n",
    "- **Clasificación de Condiciones y Ramificación:**\n",
    "  - Identificar escenarios estructurados con resultados.\n",
    "\n",
    "- **Trabajo con Objetos y Clases:**\n",
    "  - Explicar objetos y clases identificando tipos de datos y creando una clase.\n",
    "\n",
    "- **Uso del Manejo de Excepciones en Python:**\n",
    "  - Explicar cómo manejar errores en el código.\n",
    "\n",
    "- **Explicación de Funciones:**\n",
    "  - Entender qué hacen las funciones.\n",
    "\n",
    "- **Construcción de Funciones:**\n",
    "  - Crear una función usando entradas y salidas.\n",
    "\n",
    "- **Explicación de Bucles For y While:**\n",
    "  - Entender cómo funcionan los bucles for y while.\n",
    "\n",
    "- **Trabajo con Declaraciones Condicionales:**\n",
    "  - Incluir operadores y ramificación en Python.\n",
    "\n",
    "- **Creación y Uso de Sentencias de Bucle:**\n",
    "  - Implementar y utilizar declaraciones de bucle en Python.\n"
   ]
  },
  {
   "cell_type": "markdown",
   "metadata": {},
   "source": []
  }
 ],
 "metadata": {
  "kernelspec": {
   "display_name": "Python 3",
   "language": "python",
   "name": "python3"
  },
  "language_info": {
   "name": "python",
   "version": "3.11.6"
  }
 },
 "nbformat": 4,
 "nbformat_minor": 2
}
