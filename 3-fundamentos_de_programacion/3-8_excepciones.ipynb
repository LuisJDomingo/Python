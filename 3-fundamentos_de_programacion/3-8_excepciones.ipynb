{
 "cells": [
  {
   "cell_type": "code",
   "execution_count": null,
   "metadata": {},
   "outputs": [],
   "source": [
    "## Manejo de Excepciones en Python\n",
    "\n",
    "Hola, bienvenido a **Manejo de Excepciones**.\n",
    "\n",
    "Después de ver este video, podrás:\n",
    "- Explicar el manejo de excepciones.\n",
    "- Demostrar el uso del manejo de excepciones.\n",
    "- Comprender los conceptos básicos del manejo de excepciones.\n",
    "\n",
    "### ¿Qué es el Manejo de Excepciones?\n",
    "\n",
    "¿Alguna vez ingresaste un número por error cuando se suponía que debías ingresar texto en un campo de entrada? La mayoría de nosotros lo hemos hecho por error o al probar un programa. Pero, ¿sabes por qué aparecía un mensaje de error en lugar de completar y finalizar el programa?\n",
    "\n",
    "Esto sucede porque el programa intentó realizar una operación que no era válida (por ejemplo, intentar calcular con un número en lugar de texto) y se activó un evento en segundo plano. El manejo de excepciones permite que el programa maneje este tipo de errores sin detenerse abruptamente.\n",
    "\n",
    "### Declaración `try...except`\n",
    "\n",
    "La declaración `try...except` intenta ejecutar el código en el bloque `try`. Si ocurre un error, el programa busca una excepción que coincida y ejecuta el bloque `except` correspondiente.\n",
    "\n",
    "#### Ejemplo Básico"
   ]
  },
  {
   "cell_type": "code",
   "execution_count": null,
   "metadata": {},
   "outputs": [],
   "source": [
    "\n",
    "try:\n",
    "    # Intentar abrir y leer un archivo\n",
    "    with open('archivo.txt', 'r') as archivo:\n",
    "        contenido = archivo.read()\n",
    "except IOError:\n",
    "    # Manejar el error si el archivo no puede ser leído\n",
    "    print(\"No se pueden abrir o leer los datos en el archivo.\")\n"
   ]
  },
  {
   "cell_type": "markdown",
   "metadata": {},
   "source": [
    "### Múltiples Excepciones\n",
    "Si deseas manejar diferentes tipos de errores, puedes usar múltiples bloques `except`.\n",
    "\n",
    "Ejemplo con Múltiples Excepciones"
   ]
  },
  {
   "cell_type": "code",
   "execution_count": null,
   "metadata": {},
   "outputs": [],
   "source": [
    "try:\n",
    "    # Intentar abrir y leer un archivo\n",
    "    with open('archivo.txt', 'r') as archivo:\n",
    "        contenido = archivo.read()\n",
    "except IOError:\n",
    "    # Manejar errores de entrada/salida\n",
    "    print(\"No se pueden abrir o leer los datos en el archivo.\")\n",
    "except ValueError:\n",
    "    # Manejar errores de valor\n",
    "    print(\"Se produjo un error de valor.\")\n"
   ]
  },
  {
   "cell_type": "markdown",
   "metadata": {},
   "source": [
    "### Usar else y finally\n",
    "`else`: Ejecuta el bloque de código si no ocurre ninguna excepción.\n",
    "\n",
    "`finally`: Ejecuta el bloque de código sin importar si ocurrió o no una excepción, ideal para limpiar recursos como archivos abiertos.\n",
    "\n",
    "Ejemplo Completo"
   ]
  },
  {
   "cell_type": "code",
   "execution_count": null,
   "metadata": {},
   "outputs": [],
   "source": [
    "try:\n",
    "    # Intentar abrir y escribir en un archivo\n",
    "    with open('archivo.txt', 'w') as archivo:\n",
    "        archivo.write(\"Escribiendo en el archivo.\")\n",
    "except IOError:\n",
    "    # Manejar errores de entrada/salida\n",
    "    print(\"No se pueden abrir o escribir en el archivo.\")\n",
    "else:\n",
    "    # Si no ocurrió ninguna excepción\n",
    "    print(\"El archivo se escribió correctamente.\")\n",
    "finally:\n",
    "    # Esto siempre se ejecuta\n",
    "    print(\"El archivo ahora está cerrado.\")\n"
   ]
  },
  {
   "cell_type": "markdown",
   "metadata": {},
   "source": [
    "### Resumen\n",
    "En este capítulo, aprendiste:\n",
    "\n",
    "Cómo escribir una declaración try...except.\n",
    "\n",
    "La importancia de definir siempre los tipos de errores al crear excepciones.\n",
    "\n",
    "Cómo agregar declaraciones else y finally para manejar los resultados y limpiar recursos."
   ]
  },
  {
   "cell_type": "code",
   "execution_count": null,
   "metadata": {},
   "outputs": [],
   "source": []
  },
  {
   "cell_type": "markdown",
   "metadata": {},
   "source": []
  },
  {
   "cell_type": "code",
   "execution_count": null,
   "metadata": {},
   "outputs": [],
   "source": []
  }
 ],
 "metadata": {
  "language_info": {
   "name": "python"
  }
 },
 "nbformat": 4,
 "nbformat_minor": 2
}
