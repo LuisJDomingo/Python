{
 "cells": [
  {
   "cell_type": "markdown",
   "metadata": {},
   "source": [
    "## ¡Felicidades!\n",
    "\n",
    "Has completado este módulo. En este punto, sabes que:\n",
    "\n",
    "### Manejo de Archivos en Python\n",
    "- **Python** utiliza la función `open()` para manejar archivos, permitiendo leer y escribir archivos. La función especifica el modo del archivo (por ejemplo, `r` para leer, `w` para escribir, `a` para añadir).\n",
    "- Para **leer** un archivo, usa `open()` con el modo `r`.\n",
    "- Usa `with open()` para leer y procesar un archivo, asegurando un cierre adecuado.\n",
    "- Para **escribir** en un archivo, usa `open()` con el modo `w`.\n",
    "- El modo `a` indica que se añadirá al archivo.\n",
    "- `\\n` indica un nuevo renglón en el archivo.\n",
    "\n",
    "### Impresión y Manejo de Archivos\n",
    "- Python proporciona varios métodos para imprimir líneas desde atributos de archivo.\n",
    "\n",
    "### Pandas\n",
    "- **Pandas** es una poderosa biblioteca para la manipulación y análisis de datos, ofreciendo estructuras de datos como DataFrames y Series.\n",
    "- Importa Pandas usando `import pandas as pd`.\n",
    "- Usa un DataFrame (`df`) para trabajar con datos estructurados. Los DataFrames constan de filas y columnas.\n",
    "- Crea nuevos DataFrames a partir de columnas existentes.\n",
    "- Guarda DataFrames en varios formatos.\n",
    "- Usa `df.unique()` para encontrar elementos únicos en una columna de DataFrame.\n",
    "- Usa operaciones booleanas con `df` para filtrar datos.\n",
    "- Guarda nuevos DataFrames como entidades separadas, que pueden incluir valores de DataFrames anteriores.\n",
    "\n",
    "### NumPy\n",
    "- **NumPy** es una biblioteca para operaciones numéricas y matriciales, proporcionando objetos de array multidimensionales y funciones matemáticas.\n",
    "- NumPy es fundamental para Pandas.\n",
    "- Un array de NumPy o array ND es similar a una lista, optimizado para cálculos numéricos.\n",
    "- Accede a los elementos en un array de NumPy usando indexación.\n",
    "- Usa atributos como `dtype` para el tipo de dato, `size` para el número total de elementos, y `ndim` para el número de dimensiones.\n",
    "- Realiza operaciones como indexación, segmentación, suma y resta de vectores, y multiplicación.\n",
    "- El **producto de Hadamard** es la multiplicación elemento a elemento de dos arrays.\n",
    "- El **producto punto** es la suma de productos elemento a elemento, utilizado para operaciones vectoriales y matriciales.\n",
    "- **Matplotlib** puede usarse con NumPy para crear gráficos y visualizaciones.\n",
    "- Un array bidimensional de NumPy representa datos como una matriz.\n",
    "- Usa `shape` para obtener las dimensiones de un array.\n",
    "- El atributo `size` proporciona el número total de elementos en un array.\n",
    "\n",
    "### Operaciones en NumPy\n",
    "- Usa la multiplicación por un escalar para escalar los elementos en un array de NumPy.\n"
   ]
  },
  {
   "cell_type": "markdown",
   "metadata": {},
   "source": []
  }
 ],
 "metadata": {
  "language_info": {
   "name": "python"
  }
 },
 "nbformat": 4,
 "nbformat_minor": 2
}
