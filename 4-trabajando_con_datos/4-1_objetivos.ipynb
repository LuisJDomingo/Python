{
 "cells": [
  {
   "cell_type": "markdown",
   "metadata": {},
   "source": [
    "## Introducción al Manejo de Datos en Python\n",
    "\n",
    "Este módulo explica los fundamentos del trabajo con datos en Python y comienza el camino aprendiendo cómo leer y escribir archivos. Continúa con el módulo y descubre las mejores bibliotecas de Python que te ayudarán en la manipulación de datos y operaciones matemáticas.\n",
    "\n",
    "### **Objetivos de Aprendizaje**\n",
    "\n",
    "En este módulo, aprenderás sobre:\n",
    "- **Uso de Pandas**: Cómo Pandas utiliza data frames.\n",
    "- **Análisis de Datos con Pandas**: Cómo usar la biblioteca Pandas para análisis de datos.\n",
    "- **Lectura de Archivos de Texto**: Usar bibliotecas de Python, incluyendo `open` y `with`, para leer archivos de texto.\n",
    "- **Uso de NumPy**: Cómo crear arrays unidimensionales y bidimensionales con NumPy.\n",
    "- **Escritura y Guardado de Archivos**: Cómo escribir y guardar archivos en Python.\n"
   ]
  },
  {
   "cell_type": "markdown",
   "metadata": {},
   "source": []
  }
 ],
 "metadata": {
  "language_info": {
   "name": "python"
  }
 },
 "nbformat": 4,
 "nbformat_minor": 2
}
