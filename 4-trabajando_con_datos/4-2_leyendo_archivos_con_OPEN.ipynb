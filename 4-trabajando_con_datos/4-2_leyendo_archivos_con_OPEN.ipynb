{
 "cells": [
  {
   "cell_type": "markdown",
   "metadata": {},
   "source": [
    "En esta sección, usaremos la función `open` incorporada de Python para crear un objeto de archivo y obtener los datos de un archivo \"txt\".\n",
    "\n",
    "Usaremos la función `open` de Python para obtener un objeto de archivo. Podemos aplicar un método a ese objeto para leer datos del archivo.\n",
    "\n",
    "### Abrir un Archivo\n",
    "\n",
    "Podemos abrir el archivo `Ejemplo1.txt` de la siguiente manera:\n",
    "\n",
    "\n"
   ]
  },
  {
   "cell_type": "code",
   "execution_count": 9,
   "metadata": {},
   "outputs": [],
   "source": [
    "archivo = open('Ejemplo1.txt', 'r')"
   ]
  },
  {
   "cell_type": "markdown",
   "metadata": {},
   "source": [
    "Primer argumento: Es la ruta del archivo, que se compone del nombre del archivo y el directorio de archivos.\n",
    "\n",
    "Segundo parámetro: El modo, que puede ser 'r' para lectura, 'w' para escribir, y 'a' para anexar. Usaremos 'r' para leer.\n",
    "\n",
    "Finalmente, tenemos el objeto archivo. Ahora podemos usar el objeto de archivo para obtener información sobre el archivo.\n",
    "\n",
    "### Obtener Información del Archivo"
   ]
  },
  {
   "cell_type": "code",
   "execution_count": 10,
   "metadata": {},
   "outputs": [
    {
     "name": "stdout",
     "output_type": "stream",
     "text": [
      "Ejemplo1.txt\n",
      "r\n"
     ]
    }
   ],
   "source": [
    "print(archivo.name)  # Imprime el nombre del archivo\n",
    "print(archivo.mode)  # Imprime el modo de apertura del archivo ('r' en este caso)\n"
   ]
  },
  {
   "cell_type": "markdown",
   "metadata": {},
   "source": [
    "Siempre debes cerrar el objeto de archivo usando el método close. Esto puede resultar tedioso a veces, así que usemos la declaración `with`.\n",
    "\n",
    "### Usar la Declaración `with`\n",
    "Usar una declaración `with` para abrir un archivo es una mejor práctica porque cierra automáticamente el archivo. El código ejecutará todo lo que esté en el bloque de sangría, luego cierra el archivo."
   ]
  },
  {
   "cell_type": "code",
   "execution_count": 11,
   "metadata": {},
   "outputs": [
    {
     "name": "stdout",
     "output_type": "stream",
     "text": [
      "\n"
     ]
    }
   ],
   "source": [
    "with open('Ejemplo1.txt', 'r') as archivo:\n",
    "    contenido = archivo.read()\n",
    "    print(contenido)\n"
   ]
  },
  {
   "cell_type": "markdown",
   "metadata": {},
   "source": [
    "### Leer el Contenido del Archivo\n",
    "El método `read` almacena los valores del archivo en la variable `contenido` como una cadena. Puedes imprimir el contenido del archivo."
   ]
  },
  {
   "cell_type": "code",
   "execution_count": 12,
   "metadata": {},
   "outputs": [
    {
     "name": "stdout",
     "output_type": "stream",
     "text": [
      "\n"
     ]
    }
   ],
   "source": [
    "with open('Ejemplo1.txt', 'r') as archivo:\n",
    "    contenido = archivo.read()\n",
    "    print(contenido)\n"
   ]
  },
  {
   "cell_type": "markdown",
   "metadata": {},
   "source": [
    "### Leer Línea por Línea\n",
    "Podemos generar cada línea como un elemento en una lista usando el método `readlines`."
   ]
  },
  {
   "cell_type": "code",
   "execution_count": 13,
   "metadata": {},
   "outputs": [],
   "source": [
    "with open('Ejemplo1.txt', 'r') as archivo:\n",
    "    lineas = archivo.readlines()\n",
    "    for linea in lineas:\n",
    "        print(linea)\n"
   ]
  },
  {
   "cell_type": "markdown",
   "metadata": {},
   "source": [
    "### Leer Línea por Línea con readline\n",
    "Podemos utilizar el método `readline` para leer la primera línea del archivo. Si ejecutamos este comando, almacenará la primera línea en la variable `file_stuff` y luego imprimirá la primera línea."
   ]
  },
  {
   "cell_type": "code",
   "execution_count": 14,
   "metadata": {},
   "outputs": [
    {
     "name": "stdout",
     "output_type": "stream",
     "text": [
      "\n"
     ]
    }
   ],
   "source": [
    "with open('Ejemplo1.txt', 'r') as archivo:\n",
    "    primera_linea = archivo.readline()\n",
    "    print(primera_linea)\n"
   ]
  },
  {
   "cell_type": "markdown",
   "metadata": {},
   "source": [
    "Podemos utilizar el método `readline` dos veces:"
   ]
  },
  {
   "cell_type": "code",
   "execution_count": 15,
   "metadata": {},
   "outputs": [
    {
     "name": "stdout",
     "output_type": "stream",
     "text": [
      "\n",
      "\n"
     ]
    }
   ],
   "source": [
    "with open('Ejemplo1.txt', 'r') as archivo:\n",
    "    primera_linea = archivo.readline()\n",
    "    print(primera_linea)  # Imprime la primera línea\n",
    "    segunda_linea = archivo.readline()\n",
    "    print(segunda_linea)  # Imprime la segunda línea\n"
   ]
  },
  {
   "cell_type": "markdown",
   "metadata": {},
   "source": [
    "### Leer un Número Específico de Caracteres\n",
    "Podemos especificar el número de caracteres que nos gustaría leer utilizando el método `read` con un argumento."
   ]
  },
  {
   "cell_type": "code",
   "execution_count": 16,
   "metadata": {},
   "outputs": [
    {
     "name": "stdout",
     "output_type": "stream",
     "text": [
      "\n",
      "\n"
     ]
    }
   ],
   "source": [
    "with open('Ejemplo1.txt', 'r') as archivo:\n",
    "    primeros_cuatro = archivo.read(4)\n",
    "    print(primeros_cuatro)  # Imprime los primeros cuatro caracteres\n",
    "    primeros_diez = archivo.read(10)\n",
    "    print(primeros_diez)  # Imprime los siguientes diez caracteres\n"
   ]
  },
  {
   "cell_type": "markdown",
   "metadata": {},
   "source": [
    "### Usar Bucle para Imprimir Línea por Línea\n",
    "Podemos usar un bucle para imprimir cada línea individualmente."
   ]
  },
  {
   "cell_type": "code",
   "execution_count": 17,
   "metadata": {},
   "outputs": [],
   "source": [
    "with open('Ejemplo1.txt', 'r') as archivo:\n",
    "    for linea in archivo:\n",
    "        print(linea, end='')  # Imprime cada línea del archivo\n"
   ]
  },
  {
   "cell_type": "markdown",
   "metadata": {},
   "source": [
    "Consulta los laboratorios para obtener más ejemplos de métodos y otros tipos de archivos."
   ]
  }
 ],
 "metadata": {
  "kernelspec": {
   "display_name": "Python 3",
   "language": "python",
   "name": "python3"
  },
  "language_info": {
   "codemirror_mode": {
    "name": "ipython",
    "version": 3
   },
   "file_extension": ".py",
   "mimetype": "text/x-python",
   "name": "python",
   "nbconvert_exporter": "python",
   "pygments_lexer": "ipython3",
   "version": "3.11.6"
  }
 },
 "nbformat": 4,
 "nbformat_minor": 2
}
