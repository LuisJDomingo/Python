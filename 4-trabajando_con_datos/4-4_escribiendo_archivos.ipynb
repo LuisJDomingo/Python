{
 "cells": [
  {
   "cell_type": "markdown",
   "metadata": {},
   "source": [
    "Podemos crear el archivo `Example2.txt` de la siguiente manera:"
   ]
  },
  {
   "cell_type": "code",
   "execution_count": 2,
   "metadata": {},
   "outputs": [],
   "source": [
    "# Crear y escribir en Example2.txt\n",
    "with open('Example2.txt', 'w') as file:\n",
    "    file.write('Esta es la línea A\\n')  # Escribe la primera línea\n",
    "    file.write('Esta es la línea B\\n')  # Escribe la segunda línea"
   ]
  },
  {
   "cell_type": "markdown",
   "metadata": {},
   "source": [
    "Usamos la función `open`. El primer argumento es la ruta del archivo. Esta se compone del nombre del archivo (si tienes ese archivo en tu directorio, se sobrescribirá) y el directorio del archivo. Establecemos el parámetro `mode` en `'w'` para escribir. Por último, tenemos el objeto de archivo.\n",
    "\n",
    "Como antes, usamos la declaración `with`. El código ejecutará todo en el bloque indentado y luego cerrará el archivo. Creamos el objeto de archivo, `file`. Usamos la función `open`. Esto crea un archivo `Example2.txt` en su directorio. Usamos el método `write` para escribir datos en el archivo. El argumento es el texto que queremos ingresar en el archivo.\n",
    "\n",
    "Si usamos el método `write` sucesivamente, cada vez que se lo llama, escribirá en el archivo. La primera vez que se lo llama, escribiremos, \"Esta es la línea A\" con una barra `\\n` para representar una nueva línea. La segunda vez que llamamos al método, escribirá, \"Esta es la línea B\" y luego cerrará el archivo.\n",
    "\n",
    "Podemos escribir cada elemento de una lista en un archivo. Como antes, usamos un comando `with` y la función `open` para crear un archivo. La lista, `lines`, tiene tres elementos que consisten en texto. Usamos un bucle `for` para leer cada elemento de la lista `lines` y pasarlo a la variable `line`."
   ]
  },
  {
   "cell_type": "code",
   "execution_count": 3,
   "metadata": {},
   "outputs": [],
   "source": [
    "# Escribir cada elemento de una lista en Example2.txt\n",
    "lines = ['Esta es la línea A\\n', 'Esta es la línea B\\n', 'Esta es la línea C\\n']\n",
    "\n",
    "with open('Example2.txt', 'w') as file:\n",
    "    for line in lines:\n",
    "        file.write(line)\n"
   ]
  },
  {
   "cell_type": "markdown",
   "metadata": {},
   "source": [
    "La primera iteración del bucle escribe el primer elemento de la lista en el archivo `Example2.txt`. La segunda iteración escribe el segundo elemento de la lista y así sucesivamente. Al final del bucle, el archivo se cerrará.\n",
    "\n",
    "Podemos establecer el modo en adjunto usando una `'a'` minúscula. Esto no creará un nuevo archivo, sino que solo usará el archivo existente. Si llamamos al método `write`, solo escribirá en el archivo existente, luego agregará \"Esta es la línea C\" y luego cerrará el archivo."
   ]
  },
  {
   "cell_type": "code",
   "execution_count": 4,
   "metadata": {},
   "outputs": [],
   "source": [
    "# Añadir contenido a Example2.txt\n",
    "with open('Example2.txt', 'a') as file:\n",
    "    file.write('Esta es la línea C\\n')\n"
   ]
  },
  {
   "cell_type": "markdown",
   "metadata": {},
   "source": [
    "Podemos copiar un archivo a un archivo nuevo de la siguiente manera. Primero, leemos el archivo `Example1.txt` e interactuamos con él a través del objeto de archivo, `readfile`. Luego creamos un nuevo archivo `Example3.txt` y usamos el objeto de archivo `writefile` para interactuar con él. El bucle `for` toma una línea del objeto de archivo, `readfile`, y la almacena en el archivo `Example3.txt` usando el objeto de archivo, `writefile`."
   ]
  },
  {
   "cell_type": "code",
   "execution_count": 6,
   "metadata": {},
   "outputs": [],
   "source": [
    "# Copiar Example1.txt a Example3.txt\n",
    "with open('Ejemplo1.txt', 'r') as readfile, open('Example3.txt', 'w') as writefile:\n",
    "    for line in readfile:\n",
    "        writefile.write(line)\n"
   ]
  },
  {
   "cell_type": "markdown",
   "metadata": {},
   "source": [
    "La primera iteración copia la primera línea. La segunda iteración copia la segunda línea, hasta que se llega al final del archivo. Luego, ambos archivos se cierran. Consulte los laboratorios para ver más ejemplos."
   ]
  },
  {
   "cell_type": "markdown",
   "metadata": {},
   "source": []
  }
 ],
 "metadata": {
  "kernelspec": {
   "display_name": "Python 3",
   "language": "python",
   "name": "python3"
  },
  "language_info": {
   "codemirror_mode": {
    "name": "ipython",
    "version": 3
   },
   "file_extension": ".py",
   "mimetype": "text/x-python",
   "name": "python",
   "nbconvert_exporter": "python",
   "pygments_lexer": "ipython3",
   "version": "3.11.6"
  }
 },
 "nbformat": 4,
 "nbformat_minor": 2
}
