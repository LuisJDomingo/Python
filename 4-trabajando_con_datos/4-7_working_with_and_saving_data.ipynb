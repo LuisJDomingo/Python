{
 "cells": [
  {
   "cell_type": "markdown",
   "metadata": {},
   "source": [
    "# Trabajo con marcos de datos en Pandas\n",
    "\n",
    "Cuando tenemos un marco de datos, podemos trabajar con los datos y guardar los resultados en otros formatos. Considere una pila de 13 bloques de diferentes colores. Podemos ver que hay tres colores únicos. \n",
    "\n",
    "## Determinar elementos únicos en una columna\n",
    "\n",
    "Digamos que te gustaría saber cuántos elementos únicos hay en una columna de un marco de datos. Esto puede ser mucho más difícil cuando tienes millones de elementos. Pandas tiene el método `unique` para determinar los elementos únicos en una columna de un marco de datos.\n",
    "\n",
    "### Ejemplo: Determinar años únicos de álbumes\n",
    "\n",
    "Si queremos determinar los años únicos en los que se publicaron álbumes en nuestro conjunto de datos, podemos hacer lo siguiente:"
   ]
  },
  {
   "cell_type": "code",
   "execution_count": 1,
   "metadata": {},
   "outputs": [
    {
     "ename": "NameError",
     "evalue": "name 'df' is not defined",
     "output_type": "error",
     "traceback": [
      "\u001b[1;31m---------------------------------------------------------------------------\u001b[0m",
      "\u001b[1;31mNameError\u001b[0m                                 Traceback (most recent call last)",
      "Cell \u001b[1;32mIn[1], line 2\u001b[0m\n\u001b[0;32m      1\u001b[0m \u001b[38;5;66;03m# Suponiendo que df es un marco de datos con una columna 'Publicado'\u001b[39;00m\n\u001b[1;32m----> 2\u001b[0m años_unicos \u001b[38;5;241m=\u001b[39m \u001b[43mdf\u001b[49m[\u001b[38;5;124m'\u001b[39m\u001b[38;5;124mPublicado\u001b[39m\u001b[38;5;124m'\u001b[39m]\u001b[38;5;241m.\u001b[39munique()\n\u001b[0;32m      3\u001b[0m \u001b[38;5;28mprint\u001b[39m(años_unicos)\n",
      "\u001b[1;31mNameError\u001b[0m: name 'df' is not defined"
     ]
    }
   ],
   "source": [
    "# Suponiendo que df es un marco de datos con una columna 'Publicado'\n",
    "años_unicos = df['Publicado'].unique()\n",
    "print(años_unicos)"
   ]
  },
  {
   "cell_type": "markdown",
   "metadata": {},
   "source": [
    "El resultado será una lista con todos los elementos únicos de la columna `Publicado`.\n",
    "\n",
    "### Filtrar datos por una condición\n",
    "Digamos que queremos crear una nueva base de datos que solo incluya canciones de la década de 1980 y posteriores. Podemos mirar la columna `Publicado` para seleccionar solo las canciones realizadas después de 1979.\n",
    "\n",
    "#### Paso 1: Crear una serie booleana\n",
    "Podemos usar operadores de desigualdad para todo el marco de datos en Pandas. Esto nos dará una serie de valores booleanos. Por ejemplo:"
   ]
  },
  {
   "cell_type": "code",
   "execution_count": null,
   "metadata": {},
   "outputs": [],
   "source": [
    "# Seleccionamos las filas donde el año de publicación es mayor a 1979\n",
    "condicion = df['Publicado'] > 1979\n",
    "print(condicion)\n"
   ]
  },
  {
   "cell_type": "markdown",
   "metadata": {},
   "source": [
    "Esto nos devolverá `True` cuando la condición sea verdadera (publicado después de 1979) y `False` en caso contrario.\n",
    "\n",
    "#### Paso 2: Filtrar el marco de datos\n",
    "Podemos utilizar esta serie booleana para filtrar el marco de datos:"
   ]
  },
  {
   "cell_type": "code",
   "execution_count": null,
   "metadata": {},
   "outputs": [],
   "source": [
    "df1 = df[condicion]\n",
    "print(df1)\n"
   ]
  },
  {
   "cell_type": "markdown",
   "metadata": {},
   "source": [
    "Ahora tenemos un nuevo marco de datos, `df1`, donde cada álbum fue lanzado después de 1979.\n",
    "\n",
    "### Guardar el nuevo marco de datos en un archivo CSV\n",
    "Podemos guardar este nuevo marco de datos usando el método `to_csv`. El argumento es el nombre del archivo CSV. Asegúrate de incluir la extensión `.csv`."
   ]
  },
  {
   "cell_type": "code",
   "execution_count": null,
   "metadata": {},
   "outputs": [],
   "source": [
    "df1.to_csv('albumes_post_1979.csv', index=False)"
   ]
  },
  {
   "cell_type": "markdown",
   "metadata": {},
   "source": [
    "Esto guardará el nuevo marco de datos en un archivo llamado albumes_post_1979.csv.\n",
    "\n",
    "### Otros formatos\n",
    "Además de CSV, Pandas permite guardar los datos en otros formatos como Excel, JSON, entre otros, usando funciones como `to_excel` o `to_json`."
   ]
  },
  {
   "cell_type": "code",
   "execution_count": null,
   "metadata": {},
   "outputs": [],
   "source": [
    "# Guardar como archivo Excel\n",
    "df1.to_excel('albumes_post_1979.xlsx', index=False)\n",
    "\n",
    "# Guardar como archivo JSON\n",
    "df1.to_json('albumes_post_1979.json')\n"
   ]
  }
 ],
 "metadata": {
  "kernelspec": {
   "display_name": "Python 3",
   "language": "python",
   "name": "python3"
  },
  "language_info": {
   "codemirror_mode": {
    "name": "ipython",
    "version": 3
   },
   "file_extension": ".py",
   "mimetype": "text/x-python",
   "name": "python",
   "nbconvert_exporter": "python",
   "pygments_lexer": "ipython3",
   "version": "3.11.6"
  }
 },
 "nbformat": 4,
 "nbformat_minor": 2
}
