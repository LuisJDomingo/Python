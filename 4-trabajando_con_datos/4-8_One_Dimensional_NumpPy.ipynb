{
 "cells": [
  {
   "cell_type": "markdown",
   "metadata": {},
   "source": [
    "En este video, cubriremos Numpy en 1D, en particular, matrices ND. Numpy es una biblioteca para computación científica. Tiene muchas funciones útiles. Hay muchas otras ventajas como velocidad y memoria. Numpy también es la base de pandas.\n",
    "\n",
    "Así que mira nuestro video de pandas.\n",
    "\n",
    "En este video cubriremos:\n",
    "\n",
    "- Los conceptos básicos y la creación de matrices.\n",
    "- Indexación y segmentación.\n",
    "- Operaciones básicas.\n",
    "- Funciones universales.\n",
    "\n",
    "Repasemos cómo crear una matriz Numpy. Una lista de Python es un contenedor que le permite almacenar y acceder a datos. Cada elemento está asociado con un índice. Podemos acceder a cada elemento usando un corchete de la siguiente manera."
   ]
  },
  {
   "cell_type": "code",
   "execution_count": 16,
   "metadata": {},
   "outputs": [
    {
     "name": "stdout",
     "output_type": "stream",
     "text": [
      "1\n"
     ]
    }
   ],
   "source": [
    "# Crear una lista en Python\n",
    "lista = [1, 2, 3, 4, 5]\n",
    "print(lista[0])  # Imprime el primer elemento: 1"
   ]
  },
  {
   "cell_type": "markdown",
   "metadata": {},
   "source": [
    "Una matriz Numpy o matriz ND es similar a una lista. Generalmente tiene un tamaño fijo y cada elemento es del mismo tipo, en este caso, números enteros. Podemos convertir una lista en una matriz Numpy importando primero Numpy. Luego convertimos la lista de la siguiente manera; podemos acceder a los datos a través de un índice. Al igual que con la lista, podemos acceder a cada elemento con un número entero y un corchete. El valor de `a` se almacena de la siguiente manera. Si verificamos el tipo de la matriz, obtenemos `numpy.ndarray.`"
   ]
  },
  {
   "cell_type": "code",
   "execution_count": 17,
   "metadata": {},
   "outputs": [
    {
     "name": "stdout",
     "output_type": "stream",
     "text": [
      "1\n",
      "<class 'numpy.ndarray'>\n"
     ]
    }
   ],
   "source": [
    "import numpy as np\n",
    "\n",
    "# Convertir una lista en una matriz Numpy\n",
    "a = np.array([1, 2, 3, 4, 5])\n",
    "print(a[0])  # Imprime el primer elemento: 1\n",
    "print(type(a))  # Imprime el tipo: <class 'numpy.ndarray'>"
   ]
  },
  {
   "cell_type": "markdown",
   "metadata": {},
   "source": [
    "Como las matrices Numpy contienen datos del mismo tipo, podemos usar el atributo `dtype` para obtener el tipo de datos de los elementos de la matriz. En este caso, un número entero de 64 bits."
   ]
  },
  {
   "cell_type": "code",
   "execution_count": 18,
   "metadata": {},
   "outputs": [
    {
     "name": "stdout",
     "output_type": "stream",
     "text": [
      "int32\n"
     ]
    }
   ],
   "source": [
    "print(a.dtype)  # Imprime el tipo de datos: int64"
   ]
  },
  {
   "cell_type": "markdown",
   "metadata": {},
   "source": [
    "Revisemos algunos atributos básicos de la matriz usando la matriz `a`. El atributo `size` es la cantidad de elementos en la matriz. Como hay cinco elementos, el resultado es cinco. Los siguientes dos atributos tendrán más sentido cuando lleguemos a dimensiones más altas, pero repasémoslos."
   ]
  },
  {
   "cell_type": "code",
   "execution_count": 19,
   "metadata": {},
   "outputs": [
    {
     "name": "stdout",
     "output_type": "stream",
     "text": [
      "5\n",
      "1\n",
      "(5,)\n"
     ]
    }
   ],
   "source": [
    "print(a.size)  # Imprime el número de elementos: 5\n",
    "print(a.ndim)  # Imprime el número de dimensiones: 1\n",
    "print(a.shape) # Imprime la forma de la matriz: (5,)"
   ]
  },
  {
   "cell_type": "markdown",
   "metadata": {},
   "source": [
    "Podemos crear una matriz Numpy con números reales. Cuando verificamos el tipo de la matriz, obtenemos `numpy.ndarray`. Si examinamos el atributo `dtype`, vemos `float64` ya que los elementos no son números enteros."
   ]
  },
  {
   "cell_type": "code",
   "execution_count": 20,
   "metadata": {},
   "outputs": [
    {
     "name": "stdout",
     "output_type": "stream",
     "text": [
      "float64\n"
     ]
    }
   ],
   "source": [
    "b = np.array([1.0, 2.0, 3.0])\n",
    "print(b.dtype)  # Imprime el tipo de datos: float64"
   ]
  },
  {
   "cell_type": "markdown",
   "metadata": {},
   "source": [
    "Hay muchos otros atributos; consulte numpy.org.\n",
    "\n",
    "Repasemos algunos métodos de indexación y segmentación. Podemos cambiar el primer elemento de la matriz a 100 de la siguiente manera. El primer valor de la matriz ahora es 100. Podemos cambiar el quinto elemento de la matriz de la siguiente manera. El quinto elemento ahora es cero. Al igual que las listas y las tuplas, podemos segmentar una matriz Numpy. Los elementos de la matriz corresponden al siguiente índice."
   ]
  },
  {
   "cell_type": "code",
   "execution_count": 21,
   "metadata": {},
   "outputs": [
    {
     "name": "stdout",
     "output_type": "stream",
     "text": [
      "[100   2   3   4   5]\n",
      "[100   2   3   4   0]\n",
      "[2 3 4]\n",
      "[100  10  20  30   0]\n"
     ]
    }
   ],
   "source": [
    "a[0] = 100\n",
    "print(a)  # Imprime: [100  2  3  4  5]\n",
    "\n",
    "a[4] = 0\n",
    "print(a)  # Imprime: [100  2  3  4  0]\n",
    "\n",
    "# Segmentación\n",
    "d = a[1:4]\n",
    "print(d)  # Imprime: [2 3 4]\n",
    "\n",
    "# Cambiar los valores en la segmentación\n",
    "c = a[1:4]\n",
    "c[:] = [10, 20, 30]\n",
    "print(a)  # Imprime: [100  10  20  30   0]"
   ]
  },
  {
   "cell_type": "markdown",
   "metadata": {},
   "source": [
    "Numpy facilita la realización de muchas operaciones que se realizan comúnmente en la ciencia de datos. Las mismas operaciones son generalmente computacionalmente más rápidas y requieren menos memoria en Numpy en comparación con Python normal. Repasemos algunas de estas operaciones en matrices unidimensionales.\n",
    "\n",
    "Veremos muchas de las operaciones en el contexto de los vectores euclidianos para hacer las cosas más interesantes. La suma de vectores es una operación ampliamente utilizada en la ciencia de datos. Considere el vector `u` con dos elementos, los elementos se distinguen por los diferentes colores. De manera similar, considere el vector `v` con dos componentes."
   ]
  },
  {
   "cell_type": "code",
   "execution_count": 22,
   "metadata": {},
   "outputs": [
    {
     "name": "stdout",
     "output_type": "stream",
     "text": [
      "[4 6]\n"
     ]
    }
   ],
   "source": [
    "u = np.array([1, 2])\n",
    "v = np.array([3, 4])\n",
    "\n",
    "# Suma de vectores\n",
    "z = u + v\n",
    "print(z)  # Imprime: [4 6]"
   ]
  },
  {
   "cell_type": "markdown",
   "metadata": {},
   "source": [
    "En la suma de vectores, creamos un nuevo vector, en este caso `z`. El primer componente de `z` es la suma del primer componente de los vectores `u` y `v`. De manera similar, el segundo componente es la suma de los segundos componentes de `u` y `v`. Este nuevo vector `z` es ahora una combinación lineal del vector `u` y `v`. Representar la suma de vectores con segmentos de línea o flechas es útil.\n",
    "\n",
    "El primer vector se representa en rojo. El vector apuntará en la dirección de los dos componentes. El primer componente del vector es uno. Como resultado, la flecha está desplazada una unidad desde el origen en la dirección horizontal. El segundo componente es cero, representamos este componente en la dirección vertical. Como este componente es cero, el vector no apunta en la dirección vertical."
   ]
  },
  {
   "cell_type": "code",
   "execution_count": 23,
   "metadata": {},
   "outputs": [
    {
     "name": "stdout",
     "output_type": "stream",
     "text": [
      "[2 4]\n"
     ]
    }
   ],
   "source": [
    "# Multiplicación de vectores con un escalar\n",
    "y = np.array([1, 2])\n",
    "scalar = 2\n",
    "y_scaled = y * scalar\n",
    "print(y_scaled)  # Imprime: [2 4]"
   ]
  },
  {
   "cell_type": "markdown",
   "metadata": {},
   "source": [
    "El vector original `y` está en violeta. Después de multiplicarlo por un valor escalar de dos, el vector se estira dos unidades como se muestra en rojo. El nuevo vector es el doble de largo en cada dirección. La multiplicación de vectores con un escalar solo requiere una línea de código usando Numpy.\n",
    "\n",
    "El producto de Hadamard es otra operación ampliamente utilizada en la ciencia de datos. Considere los siguientes dos vectores, `u` y `v`. El producto de Hadamard de `u` y `v` es un nuevo vector `z`. El primer componente de z es el producto del primer elemento de `u` y v. De manera similar, el segundo componente es el producto del segundo elemento de `u` y `v`. El vector resultante consiste en el producto de `u` y `v`, entrada por entrada."
   ]
  },
  {
   "cell_type": "code",
   "execution_count": 24,
   "metadata": {},
   "outputs": [
    {
     "name": "stdout",
     "output_type": "stream",
     "text": [
      "[3 8]\n"
     ]
    }
   ],
   "source": [
    "# Producto de Hadamard\n",
    "u = np.array([1, 2])\n",
    "v = np.array([3, 4])\n",
    "z = u * v\n",
    "print(z)  # Imprime: [3 8]"
   ]
  },
  {
   "cell_type": "markdown",
   "metadata": {},
   "source": [
    "El producto escalar es otra operación ampliamente utilizada en la ciencia de datos. Considere el vector `u` y `v`, el producto escalar es un número único dado por el siguiente término y representa cuán similares son dos vectores. Multiplicamos el primer componente de `v` y `u`, luego multiplicamos el segundo componente y sumamos el resultado. El resultado es un número que representa cuán similares son los dos vectores."
   ]
  },
  {
   "cell_type": "code",
   "execution_count": 25,
   "metadata": {},
   "outputs": [
    {
     "name": "stdout",
     "output_type": "stream",
     "text": [
      "11\n"
     ]
    }
   ],
   "source": [
    "# Producto escalar\n",
    "u = np.array([1, 2])\n",
    "v = np.array([3, 4])\n",
    "result = np.dot(u, v)\n",
    "print(result)  # Imprime: 11"
   ]
  },
  {
   "cell_type": "markdown",
   "metadata": {},
   "source": [
    "Considere la matriz `u`, la matriz contiene los siguientes elementos. Si agregamos un valor escalar a la matriz, Numpy agregará ese valor a cada elemento. Esta propiedad se conoce como difusión. Una función universal es una función que opera en matrices ND. Podemos aplicar una función universal a una matriz Numpy. Considere las matrices `a`, podemos calcular el valor medio o promedio de todos los elementos en `a` usando el método `mean`. Esto corresponde al promedio de todos los elementos. En este caso el resultado es cero."
   ]
  },
  {
   "cell_type": "code",
   "execution_count": 26,
   "metadata": {},
   "outputs": [
    {
     "name": "stdout",
     "output_type": "stream",
     "text": [
      "3.0\n"
     ]
    }
   ],
   "source": [
    "# Crear una matriz y calcular el promedio\n",
    "a = np.array([1, 2, 3, 4, 5])\n",
    "mean_value = np.mean(a)\n",
    "print(mean_value)  # Imprime: 3.0"
   ]
  },
  {
   "cell_type": "markdown",
   "metadata": {},
   "source": [
    "Hay muchas otras funciones. Por ejemplo, considere las matrices Numpy `b`. Podemos encontrar el valor máximo usando el método `max`."
   ]
  },
  {
   "cell_type": "code",
   "execution_count": 27,
   "metadata": {},
   "outputs": [
    {
     "name": "stdout",
     "output_type": "stream",
     "text": [
      "5\n"
     ]
    }
   ],
   "source": [
    "# Encontrar el valor máximo en una matriz\n",
    "b = np.array([1, 2, 3, 4, 5])\n",
    "max_value = np.max(b)\n",
    "print(max_value)  # Imprime: 5"
   ]
  },
  {
   "cell_type": "markdown",
   "metadata": {},
   "source": [
    "Podemos usar Numpy para crear funciones que asignen matrices Numpy a nuevas matrices Numpy. Implementemos un código en el lado izquierdo de la pantalla y usemos el lado derecho de la pantalla para demostrar lo que está sucediendo.\n",
    "\n",
    "Podemos acceder al valor de pi en Numpy de la siguiente manera. Podemos crear la siguiente matriz Numpy en radianes. Esta matriz corresponde al siguiente vector. Podemos aplicar la función seno a la matriz `x` y asignar los valores a la matriz `y`. Esto aplica la función seno a cada elemento de la matriz, esto corresponde a aplicar la función seno a cada componente del vector. El resultado es una nueva matriz `y`, donde cada valor corresponde a una función seno que se aplica a cada elemento de la matriz `x`."
   ]
  },
  {
   "cell_type": "code",
   "execution_count": 28,
   "metadata": {},
   "outputs": [
    {
     "data": {
      "image/png": "[encoded data removed]",
      "text/plain": [
       "<Figure size 640x480 with 1 Axes>"
      ]
     },
     "metadata": {},
     "output_type": "display_data"
    }
   ],
   "source": [
    "# Aplicar función seno a una matriz\n",
    "x = np.linspace(0, 2 * np.pi, 100)\n",
    "y = np.sin(x)\n",
    "\n",
    "import matplotlib.pyplot as plt\n",
    "plt.plot(x, y)\n",
    "plt.xlabel('x')\n",
    "plt.ylabel('sin(x)')\n",
    "plt.title('Gráfico de la función seno')\n",
    "plt.show()"
   ]
  },
  {
   "cell_type": "markdown",
   "metadata": {},
   "source": [
    "Una función útil para representar gráficamente funciones matemáticas es el espacio lineal. El espacio lineal devuelve números espaciados uniformemente en un intervalo especificado. Especificamos el punto de inicio de la secuencia, el punto final de la secuencia. El parámetro `num` indica la cantidad de muestras a generar, en este caso cinco. El espacio entre muestras es uno. Si cambiamos el parámetro `num` a nueve, obtenemos nueve números espaciados uniformemente en el intervalo de menos dos a dos. El resultado es que la diferencia entre muestras posteriores es 0,5 en lugar de uno como antes."
   ]
  },
  {
   "cell_type": "code",
   "execution_count": 29,
   "metadata": {},
   "outputs": [
    {
     "name": "stdout",
     "output_type": "stream",
     "text": [
      "[-2.  -1.5 -1.  -0.5  0.   0.5  1.   1.5  2. ]\n"
     ]
    }
   ],
   "source": [
    "# Generar números espaciados uniformemente\n",
    "samples = np.linspace(-2, 2, 9)\n",
    "print(samples)  # Imprime: [-2. -1.5 -1.  -0.5  0.   0.5  1.   1.5  2.]"
   ]
  },
  {
   "cell_type": "markdown",
   "metadata": {},
   "source": [
    "Podemos usar la función `linspace` para generar 100 muestras espaciadas uniformemente desde el intervalo cero a dos pi. Podemos usar la función Numpy `sine` para asignar la matriz `x` a una nueva matriz `y`. Podemos importar la biblioteca `pyplot` como `plt` para ayudarnos a graficar la función. Como estamos usando un cuaderno Jupiter, usamos el comando `matplotlib inline` para mostrar el gráfico.\n",
    "\n",
    "El siguiente comando traza un gráfico. La primera entrada corresponde a los valores del eje horizontal o x. La segunda entrada corresponde a los valores del eje vertical o y. Hay mucho más que puedes hacer con Numpy. Consulta los laboratorios y numpy.org para obtener más información.    \n"
   ]
  }
 ],
 "metadata": {
  "kernelspec": {
   "display_name": "Python 3",
   "language": "python",
   "name": "python3"
  },
  "language_info": {
   "codemirror_mode": {
    "name": "ipython",
    "version": 3
   },
   "file_extension": ".py",
   "mimetype": "text/x-python",
   "name": "python",
   "nbconvert_exporter": "python",
   "pygments_lexer": "ipython3",
   "version": "3.11.6"
  }
 },
 "nbformat": 4,
 "nbformat_minor": 2
}
