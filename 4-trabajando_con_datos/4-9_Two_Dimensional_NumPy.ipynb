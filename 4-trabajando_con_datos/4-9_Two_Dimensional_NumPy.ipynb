{
 "cells": [
  {
   "cell_type": "markdown",
   "metadata": {},
   "source": [
    "Esta sección se centrará sólo en matrices 2D pero puedes usar numpy para construir conjuntos de dimensiones mucho mayores.\n",
    "En este vídeo, cubriremos los conceptos básicos y la creación de matrices en 2D, indexación y corte en 2D, y operaciones básicas en 2D.\n",
    "\n",
    "Considere la lista `a`, la lista contiene tres listas anidadas, cada una de ellas del mismo tamaño.\n",
    "\n",
    "Cada lista está codificada por colores para simplificar.\n",
    "\n",
    "Podemos convertir la lista en una matriz numpy de la siguiente manera:"
   ]
  },
  {
   "cell_type": "code",
   "execution_count": 8,
   "metadata": {},
   "outputs": [
    {
     "name": "stdout",
     "output_type": "stream",
     "text": [
      "[[1 2 3]\n",
      " [4 5 6]\n",
      " [7 8 9]]\n"
     ]
    }
   ],
   "source": [
    "import numpy as np\n",
    "\n",
    "# Crear una matriz 2D\n",
    "a = np.array([[1, 2, 3], [4, 5, 6], [7, 8, 9]])\n",
    "print(a)\n"
   ]
  },
  {
   "cell_type": "markdown",
   "metadata": {},
   "source": [
    "Es útil visualizar la matriz numpy como una matriz rectangular. Cada una de las listas anidadas corresponde a una fila diferente de la matriz. Podemos usar el atributo `ndim` para obtener el número de ejes o dimensiones, denominado rango. El término rango no se refiere al número de columnas linealmente independientes como una matriz. Es útil pensar en `ndim` como el número de listas anidadas."
   ]
  },
  {
   "cell_type": "code",
   "execution_count": 9,
   "metadata": {},
   "outputs": [
    {
     "name": "stdout",
     "output_type": "stream",
     "text": [
      "2\n"
     ]
    }
   ],
   "source": [
    "print(a.ndim)  # Imprime el número de dimensiones: 2"
   ]
  },
  {
   "cell_type": "markdown",
   "metadata": {},
   "source": [
    "La forma del atributo devuelve una tupla. El primer elemento de la tupla corresponde al número de listas anidadas contenidas en la lista original o el número de filas en la representación rectangular, en este caso tres. El segundo elemento corresponde al tamaño de cada una de las listas anidadas o el número de columnas en la matriz rectangular, en este caso tres."
   ]
  },
  {
   "cell_type": "code",
   "execution_count": 10,
   "metadata": {},
   "outputs": [
    {
     "name": "stdout",
     "output_type": "stream",
     "text": [
      "(3, 3)\n"
     ]
    }
   ],
   "source": [
    "print(a.shape)  # Imprime la forma de la matriz: (3, 3)"
   ]
  },
  {
   "cell_type": "markdown",
   "metadata": {},
   "source": [
    "El atributo `size` nos da el tamaño total de la matriz. Multiplicando el número de columnas y filas juntas, obtenemos el número total de elementos, en este caso nueve."
   ]
  },
  {
   "cell_type": "code",
   "execution_count": 11,
   "metadata": {},
   "outputs": [
    {
     "name": "stdout",
     "output_type": "stream",
     "text": [
      "9\n"
     ]
    }
   ],
   "source": [
    "print(a.size)  # Imprime el número total de elementos: 9"
   ]
  },
  {
   "cell_type": "markdown",
   "metadata": {},
   "source": [
    "Podemos utilizar corchetes rectangulares para acceder a los diferentes elementos del array. El primer índice corresponde a la fila y el segundo al elemento de la columna. Considere el siguiente ejemplo:"
   ]
  },
  {
   "cell_type": "code",
   "execution_count": 12,
   "metadata": {},
   "outputs": [
    {
     "name": "stdout",
     "output_type": "stream",
     "text": [
      "6\n",
      "1\n"
     ]
    }
   ],
   "source": [
    "# Acceder a elementos específicos\n",
    "print(a[1, 2])  # Imprime el valor en la segunda fila, tercera columna: 6\n",
    "print(a[0, 0])  # Imprime el valor en la primera fila, primera columna: 1\n"
   ]
  },
  {
   "cell_type": "markdown",
   "metadata": {},
   "source": [
    "También podemos usar el corte en matrices 2D. El primer índice especifica las filas, y el segundo las columnas. Considere este ejemplo:"
   ]
  },
  {
   "cell_type": "code",
   "execution_count": 13,
   "metadata": {},
   "outputs": [
    {
     "name": "stdout",
     "output_type": "stream",
     "text": [
      "[[2 3]\n",
      " [5 6]]\n"
     ]
    }
   ],
   "source": [
    "# Corte en matrices 2D\n",
    "print(a[0:2, 1:3])  # Imprime un subarray: [[2 3], [5 6]]\n"
   ]
  },
  {
   "cell_type": "markdown",
   "metadata": {},
   "source": [
    "Podemos sumar matrices de la misma forma que sumamos arrays:"
   ]
  },
  {
   "cell_type": "code",
   "execution_count": 14,
   "metadata": {},
   "outputs": [
    {
     "name": "stdout",
     "output_type": "stream",
     "text": [
      "[[ 2  3  4]\n",
      " [ 5  6  7]\n",
      " [ 8  9 10]]\n"
     ]
    }
   ],
   "source": [
    "# Sumar matrices\n",
    "b = np.array([[1, 1, 1], [1, 1, 1], [1, 1, 1]])\n",
    "suma = a + b\n",
    "print(suma)\n"
   ]
  },
  {
   "cell_type": "markdown",
   "metadata": {},
   "source": [
    "Multiplicar una matriz numpy por un escalar es idéntico a multiplicar una matriz por un escalar:"
   ]
  },
  {
   "cell_type": "code",
   "execution_count": 15,
   "metadata": {},
   "outputs": [
    {
     "name": "stdout",
     "output_type": "stream",
     "text": [
      "[[ 2  4  6]\n",
      " [ 8 10 12]\n",
      " [14 16 18]]\n"
     ]
    }
   ],
   "source": [
    "# Multiplicar una matriz por un escalar\n",
    "escalar = 2\n",
    "resultado = a * escalar\n",
    "print(resultado)"
   ]
  },
  {
   "cell_type": "markdown",
   "metadata": {},
   "source": [
    "El producto de Hadamard corresponde a multiplicar cada uno de los elementos en la misma posición:"
   ]
  },
  {
   "cell_type": "code",
   "execution_count": 16,
   "metadata": {},
   "outputs": [
    {
     "name": "stdout",
     "output_type": "stream",
     "text": [
      "[[ 1  4  9]\n",
      " [16 25 36]\n",
      " [49 64 81]]\n"
     ]
    }
   ],
   "source": [
    "# Producto de Hadamard\n",
    "c = np.array([[1, 2, 3], [4, 5, 6], [7, 8, 9]])\n",
    "producto_hadamard = a * c\n",
    "print(producto_hadamard)"
   ]
  },
  {
   "cell_type": "markdown",
   "metadata": {},
   "source": [
    "Para la multiplicación de matrices, asegúrate de que el número de columnas en la matriz A es igual al número de filas de la matriz B. El resultado es una nueva matriz:"
   ]
  },
  {
   "cell_type": "code",
   "execution_count": 17,
   "metadata": {},
   "outputs": [
    {
     "name": "stdout",
     "output_type": "stream",
     "text": [
      "[[14 32]\n",
      " [32 77]]\n"
     ]
    }
   ],
   "source": [
    "# Multiplicación de matrices\n",
    "A = np.array([[1, 2, 3], [4, 5, 6]])\n",
    "B = np.array([[1, 4], [2, 5], [3, 6]])\n",
    "C = np.dot(A, B)\n",
    "print(C)"
   ]
  },
  {
   "cell_type": "markdown",
   "metadata": {},
   "source": [
    "Hay mucho más que puedes hacer con Numpy. Visita [Numpy](https://numpy.org) para más detalles."
   ]
  }
 ],
 "metadata": {
  "kernelspec": {
   "display_name": "Python 3",
   "language": "python",
   "name": "python3"
  },
  "language_info": {
   "codemirror_mode": {
    "name": "ipython",
    "version": 3
   },
   "file_extension": ".py",
   "mimetype": "text/x-python",
   "name": "python",
   "nbconvert_exporter": "python",
   "pygments_lexer": "ipython3",
   "version": "3.11.6"
  }
 },
 "nbformat": 4,
 "nbformat_minor": 2
}
