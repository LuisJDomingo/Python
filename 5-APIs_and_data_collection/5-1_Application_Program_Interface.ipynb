{
 "cells": [
  {
   "cell_type": "markdown",
   "metadata": {},
   "source": [
    "En este vídeo analizaremos las interfaces de programas de aplicaciones (API, para abreviar). Específicamente, discutiremos qué es una API, bibliotecas API, y API REST, incluidas Solicitud y Respuesta y un ejemplo con PyCoinGecko.\n",
    "\n",
    "### ¿Qué es una API?\n",
    "\n",
    "Una API permite que dos piezas de software hablen entre sí. Por ejemplo, tienes tu programa, tienes algunos datos, y tienes otros componentes de software. Utiliza la API para comunicarte con otro software a través de entradas y salidas. Al igual que una función, no es necesario saber cómo funciona la API, solo sus entradas y salidas.\n",
    "\n",
    "### Ejemplo con Pandas\n",
    "\n",
    "Pandas es en realidad un conjunto de componentes de software, muchos de los cuales ni siquiera están escritos en Python. Supongamos que tienes algunos datos y un conjunto de componentes de software. Utilizamos la API de pandas para procesar los datos comunicándonos con los otros componentes del software.\n",
    "\n",
    "**Código de ejemplo:**"
   ]
  },
  {
   "cell_type": "code",
   "execution_count": 2,
   "metadata": {},
   "outputs": [
    {
     "name": "stdout",
     "output_type": "stream",
     "text": [
      "   A  B\n",
      "0  1  4\n",
      "1  2  5\n",
      "2  3  6\n",
      "A    2.0\n",
      "B    5.0\n",
      "dtype: float64\n"
     ]
    }
   ],
   "source": [
    "\n",
    "import pandas as pd\n",
    "\n",
    "# Crear un diccionario\n",
    "data = {\n",
    "    'A': [1, 2, 3],\n",
    "    'B': [4, 5, 6]\n",
    "}\n",
    "\n",
    "# Crear un DataFrame\n",
    "df = pd.DataFrame(data)\n",
    "\n",
    "# Mostrar las primeras filas del DataFrame\n",
    "print(df.head())\n",
    "\n",
    "# Calcular la media de las columnas\n",
    "print(df.mean())\n"
   ]
  },
  {
   "cell_type": "markdown",
   "metadata": {},
   "source": [
    "## API REST\n",
    "\n",
    "Las API REST son otro tipo popular de API; te permiten comunicarte a través de Internet, lo que te permite aprovechar recursos como almacenamiento, acceder a más datos, algoritmos de inteligencia artificial y mucho más. El RE significa Representacional, la S para Estado y la T para Transferencia.\n",
    "\n",
    "En las API REST, tu programa se llama cliente. La API se comunica con un servicio web al que llamas a través de Internet. Existen reglas para la comunicación, entrada o solicitud, y salida o respuesta.\n",
    "\n",
    "Términos comunes:\n",
    "\n",
    "- Cliente: Tu código o programa.\n",
    "- Recurso: El servicio web al que te conectas.\n",
    "- Punto final: La URL del servicio.\n",
    "- Solicitud y Respuesta: La comunicación entre cliente y servicio.\n",
    "\n",
    "## Métodos HTTP\n",
    "\n",
    "Los métodos HTTP son una forma de transmitir datos a través de Internet. Les decimos a las API REST qué hacer enviando una solicitud, que normalmente se comunica a través de un mensaje HTTP. Este mensaje suele contener un archivo JSON con instrucciones sobre qué operación realizar.\n",
    "\n",
    "Código de ejemplo usando `requests`:"
   ]
  },
  {
   "cell_type": "code",
   "execution_count": 1,
   "metadata": {},
   "outputs": [
    {
     "name": "stdout",
     "output_type": "stream",
     "text": [
      "{'bitcoin': {'usd': 56676}}\n"
     ]
    }
   ],
   "source": [
    "import requests\n",
    "\n",
    "# Enviar una solicitud GET a una API\n",
    "response = requests.get('https://api.coingecko.com/api/v3/simple/price', params={'ids': 'bitcoin', 'vs_currencies': 'usd'})\n",
    "\n",
    "# Obtener la respuesta en formato JSON\n",
    "data = response.json()\n",
    "\n",
    "print(data)\n"
   ]
  },
  {
   "cell_type": "markdown",
   "metadata": {},
   "source": [
    "#### **Ejemplo con PyCoinGecko**\n",
    "Usaremos el cliente/envoltorio PyCoinGecko para la API CoinGecko, actualizado cada minuto por CoinGecko.\n",
    "\n",
    "Código de ejemplo:"
   ]
  },
  {
   "cell_type": "code",
   "execution_count": 11,
   "metadata": {},
   "outputs": [
    {
     "name": "stdout",
     "output_type": "stream",
     "text": [
      "Defaulting to user installation because normal site-packages is not writeable\n",
      "Requirement already satisfied: pycoingecko in c:\\users\\luisd\\appdata\\roaming\\python\\python311\\site-packages (3.1.0)\n",
      "Requirement already satisfied: requests in c:\\users\\luisd\\appdata\\roaming\\python\\python311\\site-packages (from pycoingecko) (2.31.0)\n",
      "Requirement already satisfied: charset-normalizer<4,>=2 in c:\\users\\luisd\\appdata\\roaming\\python\\python311\\site-packages (from requests->pycoingecko) (3.3.2)\n",
      "Requirement already satisfied: idna<4,>=2.5 in c:\\users\\luisd\\appdata\\roaming\\python\\python311\\site-packages (from requests->pycoingecko) (3.6)\n",
      "Requirement already satisfied: urllib3<3,>=1.21.1 in c:\\users\\luisd\\appdata\\roaming\\python\\python311\\site-packages (from requests->pycoingecko) (2.0.7)\n",
      "Requirement already satisfied: certifi>=2017.4.17 in c:\\users\\luisd\\appdata\\roaming\\python\\python311\\site-packages (from requests->pycoingecko) (2023.11.17)\n"
     ]
    },
    {
     "name": "stderr",
     "output_type": "stream",
     "text": [
      "\n",
      "[notice] A new release of pip is available: 23.2.1 -> 24.2\n",
      "[notice] To update, run: python.exe -m pip install --upgrade pip\n"
     ]
    }
   ],
   "source": [
    "!pip install pycoingecko"
   ]
  },
  {
   "cell_type": "code",
   "execution_count": 18,
   "metadata": {},
   "outputs": [],
   "source": [
    "from pycoingecko import CoinGeckoAPI\n",
    "import pandas as pd\n",
    "import time\n",
    "from datetime import datetime, timedelta\n",
    "\n",
    "# Crear un objeto de cliente\n",
    "cg = CoinGeckoAPI()\n",
    "\n",
    "# esta linea muestra los metodos y atribuos del objeto creado cg, opcional y \n",
    "# como refresco de la lección objetos\n",
    "'''metodos = (dir(cg))\n",
    "for metodo in metodos:\n",
    "    print(metodo)'''\n",
    "    \n",
    "# Calcular el tiempo de inicio y fin\n",
    "end_time = int(time.time())  # Tiempo actual en segundos desde la época\n",
    "start_time = int((datetime.now() - timedelta(days=30)).timestamp())  # Tiempo 30 días atrás\n"
   ]
  },
  {
   "cell_type": "code",
   "execution_count": 20,
   "metadata": {},
   "outputs": [
    {
     "name": "stdout",
     "output_type": "stream",
     "text": [
      "       timestamp         price                    date\n",
      "0  1723395619476  60181.831588 2024-08-11 17:00:19.476\n",
      "1  1723399850643  60224.756927 2024-08-11 18:10:50.643\n",
      "2  1723404070667  60080.736166 2024-08-11 19:21:10.667\n",
      "3  1723407524657  58934.909267 2024-08-11 20:18:44.657\n",
      "4  1723410805910  58371.554543 2024-08-11 21:13:25.910\n"
     ]
    }
   ],
   "source": [
    "# Obtener datos históricos de Bitcoin de los últimos 30 días\n",
    "#data = cg.get_coin_market_chart_range_range_by_id_range_range('bitcoin', 'usd', from_timestamp=30*24*60*60)\n",
    "bitcoin_data = cg.get_coin_market_chart_range_by_id(\n",
    "    'bitcoin', \n",
    "    'usd', \n",
    "    from_timestamp=start_time, \n",
    "    to_timestamp=end_time\n",
    "    )\n",
    "\n",
    "# Extraer el precio de los datos\n",
    "prices = bitcoin_data['prices']\n",
    "\n",
    "# Convertir a DataFrame\n",
    "df = pd.DataFrame(prices, columns=['timestamp', 'price'])\n",
    "\n",
    "# Convertir la marca de tiempo a formato legible\n",
    "df['date'] = pd.to_datetime(df['timestamp'], unit='ms')\n",
    "\n",
    "print(df.head())\n"
   ]
  },
  {
   "cell_type": "markdown",
   "metadata": {},
   "source": [
    "**Crear un gráfico de velas**\n",
    "Para obtener los datos de las velas diarias, agruparemos por fecha para encontrar el mínimo, máximo, primer y último precio de cada día. Usaremos `plotly` para crear el gráfico de velas.\n",
    "\n",
    "Código de ejemplo:"
   ]
  },
  {
   "cell_type": "code",
   "execution_count": 23,
   "metadata": {},
   "outputs": [
    {
     "name": "stdout",
     "output_type": "stream",
     "text": [
      "Defaulting to user installation because normal site-packages is not writeable\n",
      "Requirement already satisfied: plotly in c:\\users\\luisd\\appdata\\roaming\\python\\python311\\site-packages (5.24.0)\n",
      "Requirement already satisfied: tenacity>=6.2.0 in c:\\users\\luisd\\appdata\\roaming\\python\\python311\\site-packages (from plotly) (9.0.0)\n",
      "Requirement already satisfied: packaging in c:\\users\\luisd\\appdata\\roaming\\python\\python311\\site-packages (from plotly) (23.2)\n"
     ]
    },
    {
     "name": "stderr",
     "output_type": "stream",
     "text": [
      "\n",
      "[notice] A new release of pip is available: 23.2.1 -> 24.2\n",
      "[notice] To update, run: python.exe -m pip install --upgrade pip\n"
     ]
    }
   ],
   "source": [
    "# Instalar la biblioteca plotly\n",
    "!pip install plotly"
   ]
  },
  {
   "cell_type": "code",
   "execution_count": 24,
   "metadata": {},
   "outputs": [
    {
     "data": {
      "application/vnd.plotly.v1+json": {
       "config": {
        "plotlyServerURL": "https://plot.ly"
       },
       "data": [
        {
         "close": [
          58844.58510274143,
          59193.79443709478,
          60520.521585843,
          58989.62219097791,
          57590.117286304856,
          59008.35598447069,
          59408.23428651597,
          59353.266148667375,
          59150.58385642979,
          59287.74283482554,
          61196.416673763524,
          60383.66005871233,
          64183.40662601132,
          63966.96652548775,
          64668.10743447946,
          63119.02250734977,
          59199.34377628683,
          59097.842954811764,
          59351.5794909728,
          59182.89284213509,
          58972.13921541655,
          57383.549100481745,
          59231.01284443869,
          57786.55294435445,
          58140.1028915011,
          56116.08146432956,
          53700.61737164216,
          53988.87146955055,
          54741.1679385244,
          57226.92615053547,
          56629.0801646607
         ],
         "high": [
          60224.756927116745,
          60140.893484773536,
          61213.260164439576,
          61356.318193391344,
          59727.942107983596,
          59658.822844689734,
          59650.14463574034,
          60333.65883815674,
          59150.58385642979,
          61005.78733421509,
          61524.47420600682,
          61376.73740019104,
          64367.731453455875,
          64358.60916887261,
          64668.10743447946,
          64232.150789389576,
          63182.52894576545,
          60036.74366489448,
          61009.06324110357,
          59804.3532353648,
          59332.93325713423,
          59021.65251754194,
          59245.901046591396,
          59522.41951320161,
          58393.35074858366,
          58087.76243010292,
          56805.55106357134,
          54814.8188490265,
          54741.1679385244,
          57635.44255575588,
          57340.37402210073
         ],
         "low": [
          58371.55454267009,
          58223.513740514,
          58726.82476342119,
          58607.84280247439,
          56765.926472158855,
          57388.406266252496,
          58860.57334808443,
          59353.266148667375,
          57918.457121253865,
          58868.05861956446,
          59009.13331494045,
          60289.44581145123,
          60519.48661932766,
          63905.614348637326,
          63875.82753563255,
          63119.02250734977,
          58059.84861092541,
          58647.12822514628,
          59143.100335965435,
          58102.56612260241,
          58853.53926445986,
          57383.549100481745,
          57423.47573048797,
          57748.66507488688,
          56160.11214505884,
          56037.78751865841,
          53304.61527374619,
          53794.89842133255,
          53860.12093070046,
          54707.49549860948,
          56553.32149283982
         ],
         "open": [
          60181.83158786765,
          58804.23449992608,
          59487.84718712906,
          60611.1178437017,
          58819.599962208355,
          57517.288261417954,
          58860.57334808443,
          59499.06901060443,
          58432.42381182296,
          59433.2002548913,
          59060.12610074137,
          61108.930323290086,
          60519.48661932766,
          64162.36575527889,
          64187.06046280384,
          64161.86255348353,
          62895.08768907413,
          59327.70016611258,
          59143.100335965435,
          59334.996626200795,
          59146.24979875298,
          59021.65251754194,
          57423.47573048797,
          59116.72450306674,
          57813.69706883217,
          58087.76243010292,
          56276.037013870904,
          53955.11336282272,
          54121.47291189394,
          54792.40755768575,
          56770.17822522491
         ],
         "type": "candlestick",
         "x": [
          "2024-08-11T00:00:00",
          "2024-08-12T00:00:00",
          "2024-08-13T00:00:00",
          "2024-08-14T00:00:00",
          "2024-08-15T00:00:00",
          "2024-08-16T00:00:00",
          "2024-08-17T00:00:00",
          "2024-08-18T00:00:00",
          "2024-08-19T00:00:00",
          "2024-08-20T00:00:00",
          "2024-08-21T00:00:00",
          "2024-08-22T00:00:00",
          "2024-08-23T00:00:00",
          "2024-08-24T00:00:00",
          "2024-08-25T00:00:00",
          "2024-08-26T00:00:00",
          "2024-08-27T00:00:00",
          "2024-08-28T00:00:00",
          "2024-08-29T00:00:00",
          "2024-08-30T00:00:00",
          "2024-08-31T00:00:00",
          "2024-09-01T00:00:00",
          "2024-09-02T00:00:00",
          "2024-09-03T00:00:00",
          "2024-09-04T00:00:00",
          "2024-09-05T00:00:00",
          "2024-09-06T00:00:00",
          "2024-09-07T00:00:00",
          "2024-09-08T00:00:00",
          "2024-09-09T00:00:00",
          "2024-09-10T00:00:00"
         ]
        }
       ],
       "layout": {
        "template": {
         "data": {
          "bar": [
           {
            "error_x": {
             "color": "#2a3f5f"
            },
            "error_y": {
             "color": "#2a3f5f"
            },
            "marker": {
             "line": {
              "color": "#E5ECF6",
              "width": 0.5
             },
             "pattern": {
              "fillmode": "overlay",
              "size": 10,
              "solidity": 0.2
             }
            },
            "type": "bar"
           }
          ],
          "barpolar": [
           {
            "marker": {
             "line": {
              "color": "#E5ECF6",
              "width": 0.5
             },
             "pattern": {
              "fillmode": "overlay",
              "size": 10,
              "solidity": 0.2
             }
            },
            "type": "barpolar"
           }
          ],
          "carpet": [
           {
            "aaxis": {
             "endlinecolor": "#2a3f5f",
             "gridcolor": "white",
             "linecolor": "white",
             "minorgridcolor": "white",
             "startlinecolor": "#2a3f5f"
            },
            "baxis": {
             "endlinecolor": "#2a3f5f",
             "gridcolor": "white",
             "linecolor": "white",
             "minorgridcolor": "white",
             "startlinecolor": "#2a3f5f"
            },
            "type": "carpet"
           }
          ],
          "choropleth": [
           {
            "colorbar": {
             "outlinewidth": 0,
             "ticks": ""
            },
            "type": "choropleth"
           }
          ],
          "contour": [
           {
            "colorbar": {
             "outlinewidth": 0,
             "ticks": ""
            },
            "colorscale": [
             [
              0,
              "#0d0887"
             ],
             [
              0.1111111111111111,
              "#46039f"
             ],
             [
              0.2222222222222222,
              "#7201a8"
             ],
             [
              0.3333333333333333,
              "#9c179e"
             ],
             [
              0.4444444444444444,
              "#bd3786"
             ],
             [
              0.5555555555555556,
              "#d8576b"
             ],
             [
              0.6666666666666666,
              "#ed7953"
             ],
             [
              0.7777777777777778,
              "#fb9f3a"
             ],
             [
              0.8888888888888888,
              "#fdca26"
             ],
             [
              1,
              "#f0f921"
             ]
            ],
            "type": "contour"
           }
          ],
          "contourcarpet": [
           {
            "colorbar": {
             "outlinewidth": 0,
             "ticks": ""
            },
            "type": "contourcarpet"
           }
          ],
          "heatmap": [
           {
            "colorbar": {
             "outlinewidth": 0,
             "ticks": ""
            },
            "colorscale": [
             [
              0,
              "#0d0887"
             ],
             [
              0.1111111111111111,
              "#46039f"
             ],
             [
              0.2222222222222222,
              "#7201a8"
             ],
             [
              0.3333333333333333,
              "#9c179e"
             ],
             [
              0.4444444444444444,
              "#bd3786"
             ],
             [
              0.5555555555555556,
              "#d8576b"
             ],
             [
              0.6666666666666666,
              "#ed7953"
             ],
             [
              0.7777777777777778,
              "#fb9f3a"
             ],
             [
              0.8888888888888888,
              "#fdca26"
             ],
             [
              1,
              "#f0f921"
             ]
            ],
            "type": "heatmap"
           }
          ],
          "heatmapgl": [
           {
            "colorbar": {
             "outlinewidth": 0,
             "ticks": ""
            },
            "colorscale": [
             [
              0,
              "#0d0887"
             ],
             [
              0.1111111111111111,
              "#46039f"
             ],
             [
              0.2222222222222222,
              "#7201a8"
             ],
             [
              0.3333333333333333,
              "#9c179e"
             ],
             [
              0.4444444444444444,
              "#bd3786"
             ],
             [
              0.5555555555555556,
              "#d8576b"
             ],
             [
              0.6666666666666666,
              "#ed7953"
             ],
             [
              0.7777777777777778,
              "#fb9f3a"
             ],
             [
              0.8888888888888888,
              "#fdca26"
             ],
             [
              1,
              "#f0f921"
             ]
            ],
            "type": "heatmapgl"
           }
          ],
          "histogram": [
           {
            "marker": {
             "pattern": {
              "fillmode": "overlay",
              "size": 10,
              "solidity": 0.2
             }
            },
            "type": "histogram"
           }
          ],
          "histogram2d": [
           {
            "colorbar": {
             "outlinewidth": 0,
             "ticks": ""
            },
            "colorscale": [
             [
              0,
              "#0d0887"
             ],
             [
              0.1111111111111111,
              "#46039f"
             ],
             [
              0.2222222222222222,
              "#7201a8"
             ],
             [
              0.3333333333333333,
              "#9c179e"
             ],
             [
              0.4444444444444444,
              "#bd3786"
             ],
             [
              0.5555555555555556,
              "#d8576b"
             ],
             [
              0.6666666666666666,
              "#ed7953"
             ],
             [
              0.7777777777777778,
              "#fb9f3a"
             ],
             [
              0.8888888888888888,
              "#fdca26"
             ],
             [
              1,
              "#f0f921"
             ]
            ],
            "type": "histogram2d"
           }
          ],
          "histogram2dcontour": [
           {
            "colorbar": {
             "outlinewidth": 0,
             "ticks": ""
            },
            "colorscale": [
             [
              0,
              "#0d0887"
             ],
             [
              0.1111111111111111,
              "#46039f"
             ],
             [
              0.2222222222222222,
              "#7201a8"
             ],
             [
              0.3333333333333333,
              "#9c179e"
             ],
             [
              0.4444444444444444,
              "#bd3786"
             ],
             [
              0.5555555555555556,
              "#d8576b"
             ],
             [
              0.6666666666666666,
              "#ed7953"
             ],
             [
              0.7777777777777778,
              "#fb9f3a"
             ],
             [
              0.8888888888888888,
              "#fdca26"
             ],
             [
              1,
              "#f0f921"
             ]
            ],
            "type": "histogram2dcontour"
           }
          ],
          "mesh3d": [
           {
            "colorbar": {
             "outlinewidth": 0,
             "ticks": ""
            },
            "type": "mesh3d"
           }
          ],
          "parcoords": [
           {
            "line": {
             "colorbar": {
              "outlinewidth": 0,
              "ticks": ""
             }
            },
            "type": "parcoords"
           }
          ],
          "pie": [
           {
            "automargin": true,
            "type": "pie"
           }
          ],
          "scatter": [
           {
            "fillpattern": {
             "fillmode": "overlay",
             "size": 10,
             "solidity": 0.2
            },
            "type": "scatter"
           }
          ],
          "scatter3d": [
           {
            "line": {
             "colorbar": {
              "outlinewidth": 0,
              "ticks": ""
             }
            },
            "marker": {
             "colorbar": {
              "outlinewidth": 0,
              "ticks": ""
             }
            },
            "type": "scatter3d"
           }
          ],
          "scattercarpet": [
           {
            "marker": {
             "colorbar": {
              "outlinewidth": 0,
              "ticks": ""
             }
            },
            "type": "scattercarpet"
           }
          ],
          "scattergeo": [
           {
            "marker": {
             "colorbar": {
              "outlinewidth": 0,
              "ticks": ""
             }
            },
            "type": "scattergeo"
           }
          ],
          "scattergl": [
           {
            "marker": {
             "colorbar": {
              "outlinewidth": 0,
              "ticks": ""
             }
            },
            "type": "scattergl"
           }
          ],
          "scattermapbox": [
           {
            "marker": {
             "colorbar": {
              "outlinewidth": 0,
              "ticks": ""
             }
            },
            "type": "scattermapbox"
           }
          ],
          "scatterpolar": [
           {
            "marker": {
             "colorbar": {
              "outlinewidth": 0,
              "ticks": ""
             }
            },
            "type": "scatterpolar"
           }
          ],
          "scatterpolargl": [
           {
            "marker": {
             "colorbar": {
              "outlinewidth": 0,
              "ticks": ""
             }
            },
            "type": "scatterpolargl"
           }
          ],
          "scatterternary": [
           {
            "marker": {
             "colorbar": {
              "outlinewidth": 0,
              "ticks": ""
             }
            },
            "type": "scatterternary"
           }
          ],
          "surface": [
           {
            "colorbar": {
             "outlinewidth": 0,
             "ticks": ""
            },
            "colorscale": [
             [
              0,
              "#0d0887"
             ],
             [
              0.1111111111111111,
              "#46039f"
             ],
             [
              0.2222222222222222,
              "#7201a8"
             ],
             [
              0.3333333333333333,
              "#9c179e"
             ],
             [
              0.4444444444444444,
              "#bd3786"
             ],
             [
              0.5555555555555556,
              "#d8576b"
             ],
             [
              0.6666666666666666,
              "#ed7953"
             ],
             [
              0.7777777777777778,
              "#fb9f3a"
             ],
             [
              0.8888888888888888,
              "#fdca26"
             ],
             [
              1,
              "#f0f921"
             ]
            ],
            "type": "surface"
           }
          ],
          "table": [
           {
            "cells": {
             "fill": {
              "color": "#EBF0F8"
             },
             "line": {
              "color": "white"
             }
            },
            "header": {
             "fill": {
              "color": "#C8D4E3"
             },
             "line": {
              "color": "white"
             }
            },
            "type": "table"
           }
          ]
         },
         "layout": {
          "annotationdefaults": {
           "arrowcolor": "#2a3f5f",
           "arrowhead": 0,
           "arrowwidth": 1
          },
          "autotypenumbers": "strict",
          "coloraxis": {
           "colorbar": {
            "outlinewidth": 0,
            "ticks": ""
           }
          },
          "colorscale": {
           "diverging": [
            [
             0,
             "#8e0152"
            ],
            [
             0.1,
             "#c51b7d"
            ],
            [
             0.2,
             "#de77ae"
            ],
            [
             0.3,
             "#f1b6da"
            ],
            [
             0.4,
             "#fde0ef"
            ],
            [
             0.5,
             "#f7f7f7"
            ],
            [
             0.6,
             "#e6f5d0"
            ],
            [
             0.7,
             "#b8e186"
            ],
            [
             0.8,
             "#7fbc41"
            ],
            [
             0.9,
             "#4d9221"
            ],
            [
             1,
             "#276419"
            ]
           ],
           "sequential": [
            [
             0,
             "#0d0887"
            ],
            [
             0.1111111111111111,
             "#46039f"
            ],
            [
             0.2222222222222222,
             "#7201a8"
            ],
            [
             0.3333333333333333,
             "#9c179e"
            ],
            [
             0.4444444444444444,
             "#bd3786"
            ],
            [
             0.5555555555555556,
             "#d8576b"
            ],
            [
             0.6666666666666666,
             "#ed7953"
            ],
            [
             0.7777777777777778,
             "#fb9f3a"
            ],
            [
             0.8888888888888888,
             "#fdca26"
            ],
            [
             1,
             "#f0f921"
            ]
           ],
           "sequentialminus": [
            [
             0,
             "#0d0887"
            ],
            [
             0.1111111111111111,
             "#46039f"
            ],
            [
             0.2222222222222222,
             "#7201a8"
            ],
            [
             0.3333333333333333,
             "#9c179e"
            ],
            [
             0.4444444444444444,
             "#bd3786"
            ],
            [
             0.5555555555555556,
             "#d8576b"
            ],
            [
             0.6666666666666666,
             "#ed7953"
            ],
            [
             0.7777777777777778,
             "#fb9f3a"
            ],
            [
             0.8888888888888888,
             "#fdca26"
            ],
            [
             1,
             "#f0f921"
            ]
           ]
          },
          "colorway": [
           "#636efa",
           "#EF553B",
           "#00cc96",
           "#ab63fa",
           "#FFA15A",
           "#19d3f3",
           "#FF6692",
           "#B6E880",
           "#FF97FF",
           "#FECB52"
          ],
          "font": {
           "color": "#2a3f5f"
          },
          "geo": {
           "bgcolor": "white",
           "lakecolor": "white",
           "landcolor": "#E5ECF6",
           "showlakes": true,
           "showland": true,
           "subunitcolor": "white"
          },
          "hoverlabel": {
           "align": "left"
          },
          "hovermode": "closest",
          "mapbox": {
           "style": "light"
          },
          "paper_bgcolor": "white",
          "plot_bgcolor": "#E5ECF6",
          "polar": {
           "angularaxis": {
            "gridcolor": "white",
            "linecolor": "white",
            "ticks": ""
           },
           "bgcolor": "#E5ECF6",
           "radialaxis": {
            "gridcolor": "white",
            "linecolor": "white",
            "ticks": ""
           }
          },
          "scene": {
           "xaxis": {
            "backgroundcolor": "#E5ECF6",
            "gridcolor": "white",
            "gridwidth": 2,
            "linecolor": "white",
            "showbackground": true,
            "ticks": "",
            "zerolinecolor": "white"
           },
           "yaxis": {
            "backgroundcolor": "#E5ECF6",
            "gridcolor": "white",
            "gridwidth": 2,
            "linecolor": "white",
            "showbackground": true,
            "ticks": "",
            "zerolinecolor": "white"
           },
           "zaxis": {
            "backgroundcolor": "#E5ECF6",
            "gridcolor": "white",
            "gridwidth": 2,
            "linecolor": "white",
            "showbackground": true,
            "ticks": "",
            "zerolinecolor": "white"
           }
          },
          "shapedefaults": {
           "line": {
            "color": "#2a3f5f"
           }
          },
          "ternary": {
           "aaxis": {
            "gridcolor": "white",
            "linecolor": "white",
            "ticks": ""
           },
           "baxis": {
            "gridcolor": "white",
            "linecolor": "white",
            "ticks": ""
           },
           "bgcolor": "#E5ECF6",
           "caxis": {
            "gridcolor": "white",
            "linecolor": "white",
            "ticks": ""
           }
          },
          "title": {
           "x": 0.05
          },
          "xaxis": {
           "automargin": true,
           "gridcolor": "white",
           "linecolor": "white",
           "ticks": "",
           "title": {
            "standoff": 15
           },
           "zerolinecolor": "white",
           "zerolinewidth": 2
          },
          "yaxis": {
           "automargin": true,
           "gridcolor": "white",
           "linecolor": "white",
           "ticks": "",
           "title": {
            "standoff": 15
           },
           "zerolinecolor": "white",
           "zerolinewidth": 2
          }
         }
        }
       }
      }
     },
     "metadata": {},
     "output_type": "display_data"
    }
   ],
   "source": [
    "import plotly.graph_objects as go\n",
    "\n",
    "# Agrupar los datos por fecha y calcular OHLC\n",
    "df.set_index('date', inplace=True)\n",
    "ohlc = df.resample('D').agg({'price': ['first', 'last', 'min', 'max']})\n",
    "\n",
    "# Crear gráfico de velas\n",
    "fig = go.Figure(data=[go.Candlestick(x=ohlc.index,\n",
    "                                     open=ohlc['price']['first'],\n",
    "                                     high=ohlc['price']['max'],\n",
    "                                     low=ohlc['price']['min'],\n",
    "                                     close=ohlc['price']['last'])])\n",
    "\n",
    "# Mostrar gráfico\n",
    "fig.show()\n"
   ]
  },
  {
   "cell_type": "markdown",
   "metadata": {},
   "source": [
    "Ahora puedes ver el gráfico de velas abriendo el archivo HTML generado y haciendo clic en \"Confíe en HTML\" en la parte superior izquierda de la pestaña. ¡Debería verse así!"
   ]
  }
 ],
 "metadata": {
  "kernelspec": {
   "display_name": "Python 3",
   "language": "python",
   "name": "python3"
  },
  "language_info": {
   "codemirror_mode": {
    "name": "ipython",
    "version": 3
   },
   "file_extension": ".py",
   "mimetype": "text/x-python",
   "name": "python",
   "nbconvert_exporter": "python",
   "pygments_lexer": "ipython3",
   "version": "3.11.6"
  }
 },
 "nbformat": 4,
 "nbformat_minor": 2
}
