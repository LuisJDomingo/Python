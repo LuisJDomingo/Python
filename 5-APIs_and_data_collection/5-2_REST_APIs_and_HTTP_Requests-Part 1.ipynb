{
 "cells": [
  {
   "cell_type": "markdown",
   "metadata": {},
   "source": [
    "En este video, analizaremos el protocolo HTTP. Específicamente, abordaremos:\n",
    "\n",
    "- Localizador uniforme de recursos (URL)\n",
    "- Solicitud\n",
    "- Respuesta\n",
    "\n",
    "En la última sección, abordamos las API REST.\n",
    "\n",
    "## Protocolo HTTP\n",
    "\n",
    "El protocolo HTTP puede considerarse un protocolo general de transferencia de información a través de la web. Esto incluye muchos tipos de API REST. Recuerde que la función de las API REST consiste en enviar una solicitud, y la solicitud se comunica a través de un mensaje HTTP. El mensaje HTTP generalmente contiene un archivo JSON.\n",
    "\n",
    "Cuando usted, el cliente, utiliza una página web, su navegador envía una solicitud HTTP al servidor donde está alojada la página. El servidor intenta encontrar el recurso deseado mediante el valor predeterminado `index.html`. Si su solicitud es exitosa, el servidor enviará el objeto al cliente en una respuesta HTTP; esto incluye información como el tipo de recurso, la longitud del recurso y otra información.\n",
    "\n",
    "### Ejemplo de Solicitud y Respuesta HTTP\n",
    "\n",
    "**Solicitud HTTP (GET)**\n",
    "```http\n",
    "GET /index.html HTTP/1.1\n",
    "Host: www.example.com\n",
    "```\n",
    "\n",
    "**Respuesta HTTP**\n",
    "\n",
    "HTTP/1.1 200 OK\n",
    "Content-Type: text/html\n",
    "Content-Length: 1234\n",
    "\n",
    "<html>\n",
    "<head><title>Example</title></head>\n",
    "<body><h1>Hello, world!</h1></body>\n",
    "</html>"
   ]
  },
  {
   "cell_type": "markdown",
   "metadata": {
    "vscode": {
     "languageId": "plaintext"
    }
   },
   "source": [
    "## Localizador Uniforme de Recursos (URL)\n",
    "\n",
    "El Localizador Uniforme de Recursos (URL) es la forma más popular de encontrar recursos en la web. Podemos dividir la URL en tres partes:\n",
    "\n",
    "1. Esquema: Este es el protocolo, para este laboratorio siempre será http://.\n",
    "2. Dirección de Internet o URL base: Se utilizará para encontrar la ubicación; algunos ejemplos incluyen www.ibm.com y www.gitlab.com.\n",
    "3. Ruta: Esta es la ubicación en el servidor web; por ejemplo: /images/IDSNlogo.png.\n",
    "\n",
    "## Proceso de Solicitud y Respuesta\n",
    "Ejemplo de Solicitud GET en Python\n",
    "Puedes usar la biblioteca `requests` en Python para realizar una solicitud GET. Aquí tienes un ejemplo:"
   ]
  },
  {
   "cell_type": "code",
   "execution_count": null,
   "metadata": {},
   "outputs": [],
   "source": [
    "import requests\n",
    "\n",
    "# Realizar una solicitud GET\n",
    "response = requests.get('http://www.example.com/index.html')\n",
    "\n",
    "# Verificar el estado de la respuesta\n",
    "print(response.status_code)\n",
    "\n",
    "# Imprimir el contenido de la respuesta\n",
    "print(response.text)"
   ]
  },
  {
   "cell_type": "markdown",
   "metadata": {},
   "source": [
    "## Ejemplo de Solicitud POST en Python\n",
    "También puedes usar `requests` para realizar una solicitud POST. Aquí tienes un ejemplo:"
   ]
  },
  {
   "cell_type": "code",
   "execution_count": null,
   "metadata": {},
   "outputs": [],
   "source": [
    "import requests\n",
    "\n",
    "# Datos para enviar en la solicitud POST\n",
    "data = {'key1': 'value1', 'key2': 'value2'}\n",
    "\n",
    "# Realizar una solicitud POST\n",
    "response = requests.post('http://www.example.com/api', data=data)\n",
    "\n",
    "# Verificar el estado de la respuesta\n",
    "print(response.status_code)\n",
    "\n",
    "# Imprimir el contenido de la respuesta\n",
    "print(response.json())\n"
   ]
  },
  {
   "cell_type": "markdown",
   "metadata": {},
   "source": [
    "## Códigos de Estado HTTP\n",
    "Algunos ejemplos de códigos de estado se muestran en la tabla a continuación:\n",
    "\n",
    "- 100: Respuesta informativa. Ejemplo: 100 Continue.\n",
    "- 200: Respuesta correcta. Ejemplo: 200 OK.\n",
    "- 400: Mala solicitud. Ejemplo: 401 Unauthorized, 404 NotFound.\n",
    "- 500: Error del servidor. Ejemplo: 501 Not Implemented.\n",
    "\n",
    "## Métodos HTTP\n",
    "\n",
    "Cuando se realiza una solicitud HTTP, se envía un método HTTP que indica al servidor qué acción realizar. Aquí se muestra una lista de varios métodos HTTP:\n",
    "\n",
    "- GET: Recupera datos del servidor.\n",
    "- POST: Envía datos al servidor.\n",
    "- PUT: Actualiza datos en el servidor.\n",
    "- DELETE: Elimina datos del servidor.\n",
    "\n",
    "En el siguiente video, usaremos Python para aplicar el método GET que recupera datos del servidor y el método POST que envía datos al servidor."
   ]
  },
  {
   "cell_type": "code",
   "execution_count": null,
   "metadata": {},
   "outputs": [],
   "source": []
  }
 ],
 "metadata": {
  "language_info": {
   "name": "python"
  }
 },
 "nbformat": 4,
 "nbformat_minor": 2
}
