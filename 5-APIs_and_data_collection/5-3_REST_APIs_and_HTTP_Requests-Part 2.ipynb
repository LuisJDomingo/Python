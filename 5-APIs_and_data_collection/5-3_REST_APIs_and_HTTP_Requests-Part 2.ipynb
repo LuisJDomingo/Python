{
 "cells": [
  {
   "cell_type": "markdown",
   "metadata": {},
   "source": [
    "En este vídeo, analizaremos el protocolo HTTP utilizando la biblioteca `requests`, un método popular para trabajar con el protocolo HTTP en Python.\n",
    "\n",
    "## Biblioteca `requests`\n",
    "\n",
    "La biblioteca `requests` en Python permite enviar solicitudes HTTP/1.1 fácilmente. Existen otras bibliotecas, como `httplib` y `urllib`, que también pueden trabajar con el protocolo HTTP. \n",
    "\n",
    "### Instalación de `requests`\n",
    "\n",
    "Para instalar `requests`, puedes usar el siguiente comando en un cuaderno Jupyter o en la terminal:"
   ]
  },
  {
   "cell_type": "code",
   "execution_count": 1,
   "metadata": {},
   "outputs": [
    {
     "name": "stdout",
     "output_type": "stream",
     "text": [
      "Defaulting to user installation because normal site-packages is not writeable\n",
      "Requirement already satisfied: requests in c:\\users\\luisd\\appdata\\roaming\\python\\python311\\site-packages (2.31.0)\n",
      "Requirement already satisfied: charset-normalizer<4,>=2 in c:\\users\\luisd\\appdata\\roaming\\python\\python311\\site-packages (from requests) (3.3.2)\n",
      "Requirement already satisfied: idna<4,>=2.5 in c:\\users\\luisd\\appdata\\roaming\\python\\python311\\site-packages (from requests) (3.6)\n",
      "Requirement already satisfied: urllib3<3,>=1.21.1 in c:\\users\\luisd\\appdata\\roaming\\python\\python311\\site-packages (from requests) (2.0.7)\n",
      "Requirement already satisfied: certifi>=2017.4.17 in c:\\users\\luisd\\appdata\\roaming\\python\\python311\\site-packages (from requests) (2023.11.17)\n"
     ]
    },
    {
     "name": "stderr",
     "output_type": "stream",
     "text": [
      "\n",
      "[notice] A new release of pip is available: 23.2.1 -> 24.2\n",
      "[notice] To update, run: python.exe -m pip install --upgrade pip\n"
     ]
    }
   ],
   "source": [
    "!pip install requests"
   ]
  },
  {
   "cell_type": "markdown",
   "metadata": {},
   "source": [
    "## Solicitud GET\n",
    "Para realizar una solicitud GET, puedes usar el método `get` de la biblioteca `requests`. Aquí tienes un ejemplo:"
   ]
  },
  {
   "cell_type": "code",
   "execution_count": 2,
   "metadata": {},
   "outputs": [
    {
     "name": "stdout",
     "output_type": "stream",
     "text": [
      "Código de estado: 200\n",
      "Encabezados de la respuesta:\n",
      "Content-Security-Policy: upgrade-insecure-requests\n",
      "x-frame-options: SAMEORIGIN\n",
      "Last-Modified: Tue, 10 Sep 2024 17:00:48 GMT\n",
      "ETag: \"1923f-621c6d0aa99a3-gzip\"\n",
      "Accept-Ranges: bytes\n",
      "Content-Type: text/html;charset=utf-8\n",
      "X-Content-Type-Options: nosniff\n",
      "Cache-Control: max-age=600\n",
      "Expires: Tue, 10 Sep 2024 17:14:04 GMT\n",
      "X-Akamai-Transformed: 9 14747 0 pmb=mTOE,2\n",
      "Content-Encoding: gzip\n",
      "Date: Tue, 10 Sep 2024 17:04:04 GMT\n",
      "Content-Length: 14959\n",
      "Connection: keep-alive\n",
      "Vary: Accept-Encoding\n",
      "Strict-Transport-Security: max-age=31536000\n",
      "Cuerpo de la respuesta:\n",
      "\n",
      "<!DOCTYPE HTML>\n",
      "<html lang=\"en\">\n",
      "<head>\n",
      "    \n",
      "    \n",
      "    \n",
      "    \n",
      "    \n",
      "    \n",
      "    \n",
      "    \n",
      "    \n",
      "    \n"
     ]
    }
   ],
   "source": [
    "import requests\n",
    "\n",
    "# Realizar una solicitud GET\n",
    "r = requests.get('http://www.ibm.com')\n",
    "\n",
    "# Verificar el estado de la solicitud\n",
    "print(f\"Código de estado: {r.status_code}\")\n",
    "\n",
    "# Ver los encabezados de la respuesta\n",
    "print(\"Encabezados de la respuesta:\")\n",
    "for header, value in r.headers.items():\n",
    "    print(f\"{header}: {value}\")\n",
    "\n",
    "# Ver el cuerpo de la respuesta (si es texto)\n",
    "print(\"Cuerpo de la respuesta:\")\n",
    "print(r.text[:100])  # Mostrar los primeros 100 caracteres del cuerpo\n"
   ]
  },
  {
   "cell_type": "markdown",
   "metadata": {},
   "source": [
    "## Solicitud GET con Parámetros\n",
    "Puedes añadir parámetros a una solicitud GET usando un diccionario. Aquí tienes un ejemplo:"
   ]
  },
  {
   "cell_type": "code",
   "execution_count": 3,
   "metadata": {},
   "outputs": [
    {
     "name": "stdout",
     "output_type": "stream",
     "text": [
      "URL con parámetros: http://httpbin.org/get?name=Joseph&id=123\n",
      "Cuerpo de la respuesta:\n",
      "{\n",
      "  \"args\": {\n",
      "    \"id\": \"123\", \n",
      "    \"name\": \"Joseph\"\n",
      "  }, \n",
      "  \"headers\": {\n",
      "    \"Accept\": \"*/*\", \n",
      "    \"Accept-Encoding\": \"gzip, deflate\", \n",
      "    \"Host\": \"httpbin.org\", \n",
      "    \"User-Agent\": \"python-requests/2.31.0\", \n",
      "    \"X-Amzn-Trace-Id\": \"Root=1-66e07c2d-33e6e0d812fc8570489635ca\"\n",
      "  }, \n",
      "  \"origin\": \"188.26.212.16\", \n",
      "  \"url\": \"http://httpbin.org/get?name=Joseph&id=123\"\n",
      "}\n",
      "\n",
      "Tipo de contenido: application/json\n",
      "Datos JSON:\n",
      "{'args': {'id': '123', 'name': 'Joseph'}, 'headers': {'Accept': '*/*', 'Accept-Encoding': 'gzip, deflate', 'Host': 'httpbin.org', 'User-Agent': 'python-requests/2.31.0', 'X-Amzn-Trace-Id': 'Root=1-66e07c2d-33e6e0d812fc8570489635ca'}, 'origin': '188.26.212.16', 'url': 'http://httpbin.org/get?name=Joseph&id=123'}\n"
     ]
    }
   ],
   "source": [
    "import requests\n",
    "\n",
    "# URL base y parámetros\n",
    "url = 'http://httpbin.org/get'\n",
    "params = {'name': 'Joseph', 'id': '123'}\n",
    "\n",
    "# Realizar la solicitud GET con parámetros\n",
    "response = requests.get(url, params=params)\n",
    "\n",
    "# Imprimir la URL con parámetros\n",
    "print(f\"URL con parámetros: {response.url}\")\n",
    "\n",
    "# Ver el cuerpo de la respuesta\n",
    "print(\"Cuerpo de la respuesta:\")\n",
    "print(response.text)\n",
    "\n",
    "# Imprimir el tipo de contenido\n",
    "print(f\"Tipo de contenido: {response.headers['Content-Type']}\")\n",
    "\n",
    "# Analizar el contenido JSON\n",
    "json_data = response.json()\n",
    "print(\"Datos JSON:\")\n",
    "print(json_data)\n"
   ]
  },
  {
   "cell_type": "markdown",
   "metadata": {},
   "source": [
    "## Solicitud POST\n",
    "Una solicitud POST se utiliza para enviar datos al servidor, y estos datos se envían en el cuerpo de la solicitud. Aquí tienes un ejemplo de cómo realizar una solicitud POST:"
   ]
  },
  {
   "cell_type": "code",
   "execution_count": 4,
   "metadata": {},
   "outputs": [
    {
     "name": "stdout",
     "output_type": "stream",
     "text": [
      "URL: http://httpbin.org/post\n",
      "Cuerpo de la solicitud POST:\n",
      "{\n",
      "  \"args\": {}, \n",
      "  \"data\": \"\", \n",
      "  \"files\": {}, \n",
      "  \"form\": {\n",
      "    \"key1\": \"value1\", \n",
      "    \"key2\": \"value2\"\n",
      "  }, \n",
      "  \"headers\": {\n",
      "    \"Accept\": \"*/*\", \n",
      "    \"Accept-Encoding\": \"gzip, deflate\", \n",
      "    \"Content-Length\": \"23\", \n",
      "    \"Content-Type\": \"application/x-www-form-urlencoded\", \n",
      "    \"Host\": \"httpbin.org\", \n",
      "    \"User-Agent\": \"python-requests/2.31.0\", \n",
      "    \"X-Amzn-Trace-Id\": \"Root=1-66e07c4d-4642ee9d1e120c7b563226a1\"\n",
      "  }, \n",
      "  \"json\": null, \n",
      "  \"origin\": \"188.26.212.16\", \n",
      "  \"url\": \"http://httpbin.org/post\"\n",
      "}\n",
      "\n",
      "Tipo de contenido: application/json\n",
      "Datos JSON:\n",
      "{'args': {}, 'data': '', 'files': {}, 'form': {'key1': 'value1', 'key2': 'value2'}, 'headers': {'Accept': '*/*', 'Accept-Encoding': 'gzip, deflate', 'Content-Length': '23', 'Content-Type': 'application/x-www-form-urlencoded', 'Host': 'httpbin.org', 'User-Agent': 'python-requests/2.31.0', 'X-Amzn-Trace-Id': 'Root=1-66e07c4d-4642ee9d1e120c7b563226a1'}, 'json': None, 'origin': '188.26.212.16', 'url': 'http://httpbin.org/post'}\n"
     ]
    }
   ],
   "source": [
    "import requests\n",
    "\n",
    "# URL y datos para enviar\n",
    "url = 'http://httpbin.org/post'\n",
    "payload = {'key1': 'value1', 'key2': 'value2'}\n",
    "\n",
    "# Realizar la solicitud POST\n",
    "response = requests.post(url, data=payload)\n",
    "\n",
    "# Imprimir la URL\n",
    "print(f\"URL: {response.url}\")\n",
    "\n",
    "# Imprimir el cuerpo de la solicitud POST\n",
    "print(\"Cuerpo de la solicitud POST:\")\n",
    "print(response.text)\n",
    "\n",
    "# Imprimir el tipo de contenido\n",
    "print(f\"Tipo de contenido: {response.headers['Content-Type']}\")\n",
    "\n",
    "# Analizar el contenido JSON\n",
    "json_data = response.json()\n",
    "print(\"Datos JSON:\")\n",
    "print(json_data)\n"
   ]
  },
  {
   "cell_type": "markdown",
   "metadata": {},
   "source": [
    "## Comparación entre GET y POST\n",
    "- **Solicitud GET**: Los parámetros se envían en la URL. No tiene cuerpo en la solicitud.\n",
    "- **Solicitud POS**T: Los datos se envían en el cuerpo de la solicitud. La URL no incluye los datos.\n",
    "### Comparar URL y Cuerpo\n",
    "- **GET**: Los pares nombre-valor se envían en la URL.\n",
    "- **POST**: Los datos se envían en el cuerpo de la solicitud, sin parámetros en la URL.\n",
    "\n",
    "Estos ejemplos te ayudarán a trabajar con solicitudes HTTP utilizando la biblioteca `requests` en Python, tanto para solicitudes GET como POST."
   ]
  },
  {
   "cell_type": "markdown",
   "metadata": {},
   "source": []
  }
 ],
 "metadata": {
  "kernelspec": {
   "display_name": "Python 3",
   "language": "python",
   "name": "python3"
  },
  "language_info": {
   "codemirror_mode": {
    "name": "ipython",
    "version": 3
   },
   "file_extension": ".py",
   "mimetype": "text/x-python",
   "name": "python",
   "nbconvert_exporter": "python",
   "pygments_lexer": "ipython3",
   "version": "3.11.6"
  }
 },
 "nbformat": 4,
 "nbformat_minor": 2
}
