{
 "cells": [
  {
   "cell_type": "markdown",
   "metadata": {},
   "source": [
    "<img src=\"https://prod-edx-ai-translations-assets.s3.amazonaws.com/google-translate.png\" alt=\"Traducido por el logotipo de Google\"><br><br>[GENERADO AUTOMÁTICAMENTE ]\n",
    "\n",
    "En este video, revisaremos el lenguaje de marcado de hipertexto o HTML para raspado web. Hay muchos datos útiles disponibles en páginas web, como los precios inmobiliarios y soluciones a preguntas de codificación. El sitio web Wikipedia es un depósito de información mundial. Si comprendes HTML, puedes utilizar Python para extraer esta información.\n",
    "\n",
    "## Contenido del Video\n",
    "\n",
    "1. **Revisar el HTML de una página web básica.**\n",
    "2. **Comprender la composición de una etiqueta HTML.**\n",
    "3. **Comprender los árboles HTML.**\n",
    "4. **Comprender las tablas HTML.**\n",
    "\n",
    "### HTML Básico\n",
    "\n",
    "Las páginas web están compuestas de HTML, que consiste en texto rodeado por elementos de texto encerrados entre corchetes angulares llamados etiquetas. Las etiquetas indican al navegador cómo mostrar el contenido.\n",
    "\n",
    "**Ejemplo de estructura básica en HTML:**"
   ]
  },
  {
   "cell_type": "code",
   "execution_count": 7,
   "metadata": {
    "vscode": {
     "languageId": "html"
    }
   },
   "outputs": [
    {
     "ename": "SyntaxError",
     "evalue": "invalid syntax (926830582.py, line 1)",
     "output_type": "error",
     "traceback": [
      "\u001b[1;36m  Cell \u001b[1;32mIn[7], line 1\u001b[1;36m\u001b[0m\n\u001b[1;33m    <!DOCTYPE html>\u001b[0m\n\u001b[1;37m    ^\u001b[0m\n\u001b[1;31mSyntaxError\u001b[0m\u001b[1;31m:\u001b[0m invalid syntax\n"
     ]
    }
   ],
   "source": [
    "<!DOCTYPE html>\n",
    "<html>\n",
    "<head>\n",
    "    <title>Ejemplo de Página</title>\n",
    "</head>\n",
    "<body>\n",
    "    <h3>Nombre del Jugador</h3>\n",
    "    <p>Salario: $1,000,000</p>\n",
    "</body>\n",
    "</html>"
   ]
  },
  {
   "cell_type": "markdown",
   "metadata": {},
   "source": [
    "En este ejemplo:\n",
    "\n",
    "- <!DOCTYPE html> declara que el documento es HTML.\n",
    "-<html> es el elemento raíz.\n",
    "-<head> contiene metainformación.\n",
    "-<body> es la parte visible de la página.\n",
    "\n",
    "### Composición de una Etiqueta HTML\n",
    "Cada etiqueta HTML tiene:\n",
    "\n",
    "- Nombre de la etiqueta: Por ejemplo, a para un enlace.\n",
    "- Etiqueta de apertura: <a>\n",
    "- Etiqueta de cierre: </a>\n",
    "- Contenido: Lo que se muestra en la página.\n",
    "- Atributos: Información adicional, como href en un enlace.\n",
    "\n",
    "Ejemplo de etiqueta de anclaje HTML:"
   ]
  },
  {
   "cell_type": "code",
   "execution_count": 8,
   "metadata": {
    "vscode": {
     "languageId": "html"
    }
   },
   "outputs": [
    {
     "ename": "SyntaxError",
     "evalue": "invalid syntax (1974733503.py, line 1)",
     "output_type": "error",
     "traceback": [
      "\u001b[1;36m  Cell \u001b[1;32mIn[8], line 1\u001b[1;36m\u001b[0m\n\u001b[1;33m    <a href=\"http://www.ibm.com\">Visitar IBM</a>\u001b[0m\n\u001b[1;37m    ^\u001b[0m\n\u001b[1;31mSyntaxError\u001b[0m\u001b[1;31m:\u001b[0m invalid syntax\n"
     ]
    }
   ],
   "source": [
    "<a href=\"http://www.ibm.com\">Visitar IBM</a>"
   ]
  },
  {
   "cell_type": "markdown",
   "metadata": {},
   "source": [
    "### Árboles HTML\n",
    "Un documento HTML puede visualizarse como un árbol de documentos:\n",
    "\n",
    "- Etiqueta raíz: `<html>`\n",
    "- Hijos de `<html>`: `<head>` y `<body>`\n",
    "- Hijos de `<body>`: `<h3>`, `<p>`, etc.\n",
    "\n",
    "Representación en árbol:"
   ]
  },
  {
   "cell_type": "markdown",
   "metadata": {},
   "source": [
    "\n",
    "<html>\n",
    "  ├── <head>\n",
    "  └── <body>\n",
    "      ├── <h3>\n",
    "      └── <p>\n"
   ]
  },
  {
   "cell_type": "markdown",
   "metadata": {},
   "source": [
    "### Tablas HTML\n",
    "\n",
    "Para definir una tabla en HTML:\n",
    "\n",
    "- Etiqueta `<table>`: Define la tabla.\n",
    "- Etiqueta `<tr>`: Define una fila.\n",
    "- Etiqueta `<td>`: Define una celda en una fila.\n",
    "Ejemplo de tabla HTML:"
   ]
  },
  {
   "cell_type": "code",
   "execution_count": 9,
   "metadata": {
    "vscode": {
     "languageId": "html"
    }
   },
   "outputs": [
    {
     "ename": "SyntaxError",
     "evalue": "invalid syntax (1735235388.py, line 1)",
     "output_type": "error",
     "traceback": [
      "\u001b[1;36m  Cell \u001b[1;32mIn[9], line 1\u001b[1;36m\u001b[0m\n\u001b[1;33m    <table>\u001b[0m\n\u001b[1;37m    ^\u001b[0m\n\u001b[1;31mSyntaxError\u001b[0m\u001b[1;31m:\u001b[0m invalid syntax\n"
     ]
    }
   ],
   "source": [
    "<table>\n",
    "  <tr>\n",
    "    <td>Nombre</td>\n",
    "    <td>Salario</td>\n",
    "  </tr>\n",
    "  <tr>\n",
    "    <td>Jugador 1</td>\n",
    "    <td>$1,000,000</td>\n",
    "  </tr>\n",
    "  <tr>\n",
    "    <td>Jugador 2</td>\n",
    "    <td>$2,000,000</td>\n",
    "  </tr>\n",
    "</table>\n"
   ]
  },
  {
   "cell_type": "markdown",
   "metadata": {},
   "source": [
    "### Raspado Web con Python\n",
    "Usaremos `BeautifulSoup` para extraer datos de una página web. Instala `beautifulsoup4` y `requests` si no lo has hecho:"
   ]
  },
  {
   "cell_type": "code",
   "execution_count": 10,
   "metadata": {},
   "outputs": [
    {
     "name": "stdout",
     "output_type": "stream",
     "text": [
      "Defaulting to user installation because normal site-packages is not writeable\n",
      "Requirement already satisfied: beautifulsoup4 in c:\\users\\luisd\\appdata\\roaming\\python\\python311\\site-packages (4.12.3)\n",
      "Requirement already satisfied: requests in c:\\users\\luisd\\appdata\\roaming\\python\\python311\\site-packages (2.31.0)\n",
      "Requirement already satisfied: soupsieve>1.2 in c:\\users\\luisd\\appdata\\roaming\\python\\python311\\site-packages (from beautifulsoup4) (2.5)\n",
      "Requirement already satisfied: charset-normalizer<4,>=2 in c:\\users\\luisd\\appdata\\roaming\\python\\python311\\site-packages (from requests) (3.3.2)\n",
      "Requirement already satisfied: idna<4,>=2.5 in c:\\users\\luisd\\appdata\\roaming\\python\\python311\\site-packages (from requests) (3.6)\n",
      "Requirement already satisfied: urllib3<3,>=1.21.1 in c:\\users\\luisd\\appdata\\roaming\\python\\python311\\site-packages (from requests) (2.0.7)\n",
      "Requirement already satisfied: certifi>=2017.4.17 in c:\\users\\luisd\\appdata\\roaming\\python\\python311\\site-packages (from requests) (2023.11.17)\n"
     ]
    },
    {
     "name": "stderr",
     "output_type": "stream",
     "text": [
      "\n",
      "[notice] A new release of pip is available: 23.2.1 -> 24.2\n",
      "[notice] To update, run: python.exe -m pip install --upgrade pip\n"
     ]
    }
   ],
   "source": [
    "!pip install beautifulsoup4 requests"
   ]
  },
  {
   "cell_type": "markdown",
   "metadata": {},
   "source": [
    "Ejemplo de raspado web:"
   ]
  },
  {
   "cell_type": "code",
   "execution_count": 12,
   "metadata": {},
   "outputs": [
    {
     "data": {
      "text/plain": [
       "<!DOCTYPE html>\n",
       "\n",
       "<html>\n",
       "<head>\n",
       "<title>Example Domain</title>\n",
       "<meta charset=\"utf-8\"/>\n",
       "<meta content=\"text/html; charset=utf-8\" http-equiv=\"Content-type\"/>\n",
       "<meta content=\"width=device-width, initial-scale=1\" name=\"viewport\"/>\n",
       "<style type=\"text/css\">\n",
       "    body {\n",
       "        background-color: #f0f0f2;\n",
       "        margin: 0;\n",
       "        padding: 0;\n",
       "        font-family: -apple-system, system-ui, BlinkMacSystemFont, \"Segoe UI\", \"Open Sans\", \"Helvetica Neue\", Helvetica, Arial, sans-serif;\n",
       "        \n",
       "    }\n",
       "    div {\n",
       "        width: 600px;\n",
       "        margin: 5em auto;\n",
       "        padding: 2em;\n",
       "        background-color: #fdfdff;\n",
       "        border-radius: 0.5em;\n",
       "        box-shadow: 2px 3px 7px 2px rgba(0,0,0,0.02);\n",
       "    }\n",
       "    a:link, a:visited {\n",
       "        color: #38488f;\n",
       "        text-decoration: none;\n",
       "    }\n",
       "    @media (max-width: 700px) {\n",
       "        div {\n",
       "            margin: 0 auto;\n",
       "            width: auto;\n",
       "        }\n",
       "    }\n",
       "    </style>\n",
       "</head>\n",
       "<body>\n",
       "<div>\n",
       "<h1>Example Domain</h1>\n",
       "<p>This domain is for use in illustrative examples in documents. You may use this\n",
       "    domain in literature without prior coordination or asking for permission.</p>\n",
       "<p><a href=\"https://www.iana.org/domains/example\">More information...</a></p>\n",
       "</div>\n",
       "</body>\n",
       "</html>"
      ]
     },
     "execution_count": 12,
     "metadata": {},
     "output_type": "execute_result"
    }
   ],
   "source": [
    "import requests\n",
    "from bs4 import BeautifulSoup\n",
    "\n",
    "# Realizar una solicitud GET a la página web\n",
    "response = requests.get('http://example.com')\n",
    "\n",
    "# Analizar el contenido HTML\n",
    "soup = BeautifulSoup(response.text, 'html.parser')\n",
    "soup"
   ]
  },
  {
   "cell_type": "code",
   "execution_count": 14,
   "metadata": {},
   "outputs": [],
   "source": [
    "# Extraer los datos que necesitas\n",
    "for player in soup.find_all('h3'):\n",
    "    name = player.get_text()\n",
    "    salary = player.find_next_sibling('p').get_text()\n",
    "    print(f\"Nombre: {name}, {salary}\")\n"
   ]
  },
  {
   "cell_type": "markdown",
   "metadata": {},
   "source": [
    "Este ejemplo obtiene los nombres de los jugadores y sus salarios de una página web ficiticia (por lo que la salida sera ninguna), siempre que estén en etiquetas `<h3>` y `<p>`, respectivamente.\n",
    "\n",
    "Ahora que tienes algunos conocimientos básicos de HTML y raspado web, puedes intentar extraer datos de cualquier página web que te interese. ¡Buena suerte!"
   ]
  }
 ],
 "metadata": {
  "kernelspec": {
   "display_name": "Python 3",
   "language": "python",
   "name": "python3"
  },
  "language_info": {
   "codemirror_mode": {
    "name": "ipython",
    "version": 3
   },
   "file_extension": ".py",
   "mimetype": "text/x-python",
   "name": "python",
   "nbconvert_exporter": "python",
   "pygments_lexer": "ipython3",
   "version": "3.11.6"
  }
 },
 "nbformat": 4,
 "nbformat_minor": 2
}
