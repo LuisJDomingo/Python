{
 "cells": [
  {
   "cell_type": "markdown",
   "metadata": {},
   "source": [
    "## Este módulo explora las formas únicas de recolectar datos utilizando APIs y web scraping, así como la lectura y recolección de datos de diferentes formatos de archivo.\n",
    "\n",
    "### Objetivos de Aprendizaje\n",
    "- **Explicar el uso del protocolo HTTP** utilizando el método de la biblioteca Requests.\n",
    "- **Describir cómo funciona el protocolo de solicitud y respuesta HTTP** con URLs.\n",
    "- **Invocar APIs simples y de código abierto**.\n",
    "- **Realizar web scraping básico** utilizando Python.\n",
    "- **Trabajar con diferentes formatos de archivo** usando Python.\n",
    "- **Explicar la diferencia entre APIs y REST APIs**.\n",
    "- **Resumir cómo las APIs reciben y envían información**.\n"
   ]
  },
  {
   "cell_type": "markdown",
   "metadata": {},
   "source": []
  }
 ],
 "metadata": {
  "language_info": {
   "name": "python"
  }
 },
 "nbformat": 4,
 "nbformat_minor": 2
}
